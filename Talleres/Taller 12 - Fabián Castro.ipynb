{
 "cells": [
  {
   "cell_type": "markdown",
   "metadata": {},
   "source": [
    "<img src='https://encrypted-tbn0.gstatic.com/images?q=tbn%3AANd9GcQ-VfNtOyJbsaxu43Kztf_cv1mgBG6ZIQZEVw&usqp=CAU'>\n",
    "\n",
    "# Procesamiento de Lenguaje Natural\n",
    "\n",
    "## Taller #12: Análisis de sentimiento\n",
    "`Fabían Castro`"
   ]
  },
  {
   "cell_type": "markdown",
   "metadata": {},
   "source": [
    "###  `[25 pts]` Punto 1: Hacer análisis de sentimiento de los datos del anterior taller\n",
    "- Columna con el puntaje numérico del sentimiento\n",
    "- Pueden usar cualquiera de las librerias vistas en clase"
   ]
  },
  {
   "cell_type": "code",
   "execution_count": 1,
   "metadata": {},
   "outputs": [],
   "source": [
    "#data handlign\n",
    "import pandas as pd\n",
    "import numpy as np\n",
    "\n",
    "#twitter scrapper\n",
    "import snscrape.modules.twitter as sntwitter\n",
    "\n",
    "#model\n",
    "from vaderSentiment.vaderSentiment import SentimentIntensityAnalyzer\n",
    "\n",
    "pd.set_option('display.max_colwidth', None)"
   ]
  },
  {
   "cell_type": "code",
   "execution_count": 2,
   "metadata": {},
   "outputs": [],
   "source": [
    "tweets = []\n",
    "maxTweets = 2000\n",
    "for i, tweet in enumerate(sntwitter.TwitterSearchScraper('@overwatch ' + 'since:2021-01-01 until:2021-05-24 -filter:replies lang:en').get_items()) :\n",
    "    if i > maxTweets :\n",
    "        break\n",
    "        \n",
    "    temp = []\n",
    "    temp.append(tweet.date)\n",
    "    temp.append(tweet.content)\n",
    "    \n",
    "    tweets.append(temp)"
   ]
  },
  {
   "cell_type": "code",
   "execution_count": 3,
   "metadata": {
    "scrolled": false
   },
   "outputs": [
    {
     "data": {
      "text/html": [
       "<div>\n",
       "<style scoped>\n",
       "    .dataframe tbody tr th:only-of-type {\n",
       "        vertical-align: middle;\n",
       "    }\n",
       "\n",
       "    .dataframe tbody tr th {\n",
       "        vertical-align: top;\n",
       "    }\n",
       "\n",
       "    .dataframe thead th {\n",
       "        text-align: right;\n",
       "    }\n",
       "</style>\n",
       "<table border=\"1\" class=\"dataframe\">\n",
       "  <thead>\n",
       "    <tr style=\"text-align: right;\">\n",
       "      <th></th>\n",
       "      <th>date</th>\n",
       "      <th>content</th>\n",
       "    </tr>\n",
       "  </thead>\n",
       "  <tbody>\n",
       "    <tr>\n",
       "      <th>23</th>\n",
       "      <td>2021-04-25 19:24:27+00:00</td>\n",
       "      <td>Wow just wow.  I got kicked out twice. @overwatch https://t.co/V09nFCFQae</td>\n",
       "    </tr>\n",
       "    <tr>\n",
       "      <th>9</th>\n",
       "      <td>2021-05-19 00:59:36+00:00</td>\n",
       "      <td>Former @Overwatch MVP suspended https://t.co/4ONqWyYF62 #axiosgaming</td>\n",
       "    </tr>\n",
       "    <tr>\n",
       "      <th>117</th>\n",
       "      <td>2021-02-04 22:12:28+00:00</td>\n",
       "      <td>I'm digging this highlight into @Overwatch #PS4share\\n\\nhttps://t.co/QpHmyZFHRn https://t.co/kBagS2rYJm</td>\n",
       "    </tr>\n",
       "    <tr>\n",
       "      <th>89</th>\n",
       "      <td>2021-02-19 23:26:53+00:00</td>\n",
       "      <td>Currently drooling over @overwatch 2 watching behind the scenes of #Blizzcon2021 #overwatch2 i need this in my life asap.</td>\n",
       "    </tr>\n",
       "    <tr>\n",
       "      <th>107</th>\n",
       "      <td>2021-02-10 02:15:46+00:00</td>\n",
       "      <td>I forgot how much I love @overwatch. Anyone want to jam out? \\n\\nhttps://t.co/LWXcfvVfPR https://t.co/FxSk0ufVyS</td>\n",
       "    </tr>\n",
       "  </tbody>\n",
       "</table>\n",
       "</div>"
      ],
      "text/plain": [
       "                         date  \\\n",
       "23  2021-04-25 19:24:27+00:00   \n",
       "9   2021-05-19 00:59:36+00:00   \n",
       "117 2021-02-04 22:12:28+00:00   \n",
       "89  2021-02-19 23:26:53+00:00   \n",
       "107 2021-02-10 02:15:46+00:00   \n",
       "\n",
       "                                                                                                                       content  \n",
       "23                                                   Wow just wow.  I got kicked out twice. @overwatch https://t.co/V09nFCFQae  \n",
       "9                                                         Former @Overwatch MVP suspended https://t.co/4ONqWyYF62 #axiosgaming  \n",
       "117                    I'm digging this highlight into @Overwatch #PS4share\\n\\nhttps://t.co/QpHmyZFHRn https://t.co/kBagS2rYJm  \n",
       "89   Currently drooling over @overwatch 2 watching behind the scenes of #Blizzcon2021 #overwatch2 i need this in my life asap.  \n",
       "107           I forgot how much I love @overwatch. Anyone want to jam out? \\n\\nhttps://t.co/LWXcfvVfPR https://t.co/FxSk0ufVyS  "
      ]
     },
     "metadata": {},
     "output_type": "display_data"
    },
    {
     "data": {
      "text/plain": [
       "(153, 2)"
      ]
     },
     "execution_count": 3,
     "metadata": {},
     "output_type": "execute_result"
    }
   ],
   "source": [
    "df = pd.DataFrame(tweets)\n",
    "df.columns = ['date', 'content']\n",
    "display(df.sample(5))\n",
    "df.shape"
   ]
  },
  {
   "cell_type": "code",
   "execution_count": 4,
   "metadata": {},
   "outputs": [],
   "source": [
    "import re\n",
    "#cleaning\n",
    "pattern1 = '?P<pic>pic.twitter.com/[^\\s]+'\n",
    "pattern2 = '?P<url>https?://[^\\s]+'\n",
    "\n",
    "def remove_words_by_start_char(text, character):\n",
    "    \"\"\"Based on a starting character (i.e. @ or #),\n",
    "        removes the word (with character included) from the text and returns all ocurrences\"\"\"\n",
    "    spec_words = [interaction for interaction in text.split() if interaction.startswith(character)]\n",
    "    for word in spec_words:\n",
    "        text = text.replace(word, '')\n",
    "    return text, spec_words\n",
    "    \n",
    "def text_clean(row):\n",
    "    text = row['content']\n",
    "    \n",
    "    links = [tuple(j for j in i if j)[-1] for i in re.findall(f\"({pattern1})|({pattern2})\",text)]\n",
    "    for link in links:\n",
    "        text = text.replace(link,\"\")\n",
    "         \n",
    "    text, hashtags = remove_words_by_start_char(text, '#')\n",
    "    text, mentions = remove_words_by_start_char(text, '@')    \n",
    "        \n",
    "    return text#, links, hashtags, mentions"
   ]
  },
  {
   "cell_type": "code",
   "execution_count": 5,
   "metadata": {},
   "outputs": [],
   "source": [
    "df['content'] = df.apply(text_clean, axis = 1)"
   ]
  },
  {
   "cell_type": "code",
   "execution_count": 6,
   "metadata": {},
   "outputs": [
    {
     "data": {
      "text/html": [
       "<div>\n",
       "<style scoped>\n",
       "    .dataframe tbody tr th:only-of-type {\n",
       "        vertical-align: middle;\n",
       "    }\n",
       "\n",
       "    .dataframe tbody tr th {\n",
       "        vertical-align: top;\n",
       "    }\n",
       "\n",
       "    .dataframe thead th {\n",
       "        text-align: right;\n",
       "    }\n",
       "</style>\n",
       "<table border=\"1\" class=\"dataframe\">\n",
       "  <thead>\n",
       "    <tr style=\"text-align: right;\">\n",
       "      <th></th>\n",
       "      <th>date</th>\n",
       "      <th>content</th>\n",
       "    </tr>\n",
       "  </thead>\n",
       "  <tbody>\n",
       "    <tr>\n",
       "      <th>23</th>\n",
       "      <td>2021-04-25 19:24:27+00:00</td>\n",
       "      <td>Wow just wow.  I got kicked out twice.</td>\n",
       "    </tr>\n",
       "    <tr>\n",
       "      <th>29</th>\n",
       "      <td>2021-04-19 05:46:11+00:00</td>\n",
       "      <td>Dude what is wrong with UAE player they using hack and promoted on many games specially  , Activision blizzard should band UAE also they buy Koran account and Chinese, they don’t care if they got band because they have a lots of money</td>\n",
       "    </tr>\n",
       "    <tr>\n",
       "      <th>88</th>\n",
       "      <td>2021-02-20 01:20:44+00:00</td>\n",
       "      <td>can u make mccree naked</td>\n",
       "    </tr>\n",
       "    <tr>\n",
       "      <th>96</th>\n",
       "      <td>2021-02-16 20:35:50+00:00</td>\n",
       "      <td>Who likes overwatch, i do. But what your favorite character on overwatch</td>\n",
       "    </tr>\n",
       "    <tr>\n",
       "      <th>64</th>\n",
       "      <td>2021-03-18 06:41:26+00:00</td>\n",
       "      <td>DRUNK Raging Racists           \\n</td>\n",
       "    </tr>\n",
       "  </tbody>\n",
       "</table>\n",
       "</div>"
      ],
      "text/plain": [
       "                        date  \\\n",
       "23 2021-04-25 19:24:27+00:00   \n",
       "29 2021-04-19 05:46:11+00:00   \n",
       "88 2021-02-20 01:20:44+00:00   \n",
       "96 2021-02-16 20:35:50+00:00   \n",
       "64 2021-03-18 06:41:26+00:00   \n",
       "\n",
       "                                                                                                                                                                                                                                       content  \n",
       "23                                                                                                                                                                                                    Wow just wow.  I got kicked out twice.    \n",
       "29  Dude what is wrong with UAE player they using hack and promoted on many games specially  , Activision blizzard should band UAE also they buy Koran account and Chinese, they don’t care if they got band because they have a lots of money  \n",
       "88                                                                                                                                                                                                                    can u make mccree naked   \n",
       "96                                                                                                                                                                  Who likes overwatch, i do. But what your favorite character on overwatch    \n",
       "64                                                                                                                                                                                                           DRUNK Raging Racists           \\n  "
      ]
     },
     "execution_count": 6,
     "metadata": {},
     "output_type": "execute_result"
    }
   ],
   "source": [
    "df.sample(5)"
   ]
  },
  {
   "cell_type": "code",
   "execution_count": 7,
   "metadata": {},
   "outputs": [],
   "source": [
    "vader = SentimentIntensityAnalyzer()\n",
    "df['sent_vader'] = df['content'].apply(lambda val: vader.polarity_scores(val)['compound'])"
   ]
  },
  {
   "cell_type": "code",
   "execution_count": 8,
   "metadata": {},
   "outputs": [
    {
     "data": {
      "text/html": [
       "<div>\n",
       "<style scoped>\n",
       "    .dataframe tbody tr th:only-of-type {\n",
       "        vertical-align: middle;\n",
       "    }\n",
       "\n",
       "    .dataframe tbody tr th {\n",
       "        vertical-align: top;\n",
       "    }\n",
       "\n",
       "    .dataframe thead th {\n",
       "        text-align: right;\n",
       "    }\n",
       "</style>\n",
       "<table border=\"1\" class=\"dataframe\">\n",
       "  <thead>\n",
       "    <tr style=\"text-align: right;\">\n",
       "      <th></th>\n",
       "      <th>date</th>\n",
       "      <th>content</th>\n",
       "      <th>sent_vader</th>\n",
       "    </tr>\n",
       "  </thead>\n",
       "  <tbody>\n",
       "    <tr>\n",
       "      <th>57</th>\n",
       "      <td>2021-03-26 18:13:33+00:00</td>\n",
       "      <td>sooo about that cozy stardew stream today...  suggested we join forces for some  and I've been meaning to do pachimari roadhog makeup so it's pew pew shooty time instead! time to play with pink and green 💗💚\\n\\n</td>\n",
       "      <td>0.9324</td>\n",
       "    </tr>\n",
       "    <tr>\n",
       "      <th>13</th>\n",
       "      <td>2021-05-15 15:55:57+00:00</td>\n",
       "      <td>Why do WoW players like Nightelf Women? It's those Darnassus \\n   \\n</td>\n",
       "      <td>0.7430</td>\n",
       "    </tr>\n",
       "    <tr>\n",
       "      <th>138</th>\n",
       "      <td>2021-01-13 19:42:04+00:00</td>\n",
       "      <td>The flex role has ruined a majority of comp matches in  Nothing worse than playing with DPS players who have NO game sense in tank or support, and have NO intention of learning their role. So long as they get that queue time down eh?</td>\n",
       "      <td>-0.6490</td>\n",
       "    </tr>\n",
       "    <tr>\n",
       "      <th>76</th>\n",
       "      <td>2021-03-03 20:01:58+00:00</td>\n",
       "      <td>PODCAST GUEST THIS WEEK!!  takes some unique parts and makes things just like Watson from Overwatch! LINK IN BIO! \\nFOLLOW ➡️  ⬅️ for more LEGO MOCs that bring smiles 😁😁 SUBSCRIBE to the Back 2 Brick PODCAST!\\n-</td>\n",
       "      <td>0.9147</td>\n",
       "    </tr>\n",
       "    <tr>\n",
       "      <th>98</th>\n",
       "      <td>2021-02-15 09:29:13+00:00</td>\n",
       "      <td>Lullaby for a Sadist on  available on      I can help 1 2 3 4 5</td>\n",
       "      <td>0.4019</td>\n",
       "    </tr>\n",
       "  </tbody>\n",
       "</table>\n",
       "</div>"
      ],
      "text/plain": [
       "                         date  \\\n",
       "57  2021-03-26 18:13:33+00:00   \n",
       "13  2021-05-15 15:55:57+00:00   \n",
       "138 2021-01-13 19:42:04+00:00   \n",
       "76  2021-03-03 20:01:58+00:00   \n",
       "98  2021-02-15 09:29:13+00:00   \n",
       "\n",
       "                                                                                                                                                                                                                                         content  \\\n",
       "57                           sooo about that cozy stardew stream today...  suggested we join forces for some  and I've been meaning to do pachimari roadhog makeup so it's pew pew shooty time instead! time to play with pink and green 💗💚\\n\\n    \n",
       "13                                                                                                                                                                          Why do WoW players like Nightelf Women? It's those Darnassus \\n   \\n   \n",
       "138  The flex role has ruined a majority of comp matches in  Nothing worse than playing with DPS players who have NO game sense in tank or support, and have NO intention of learning their role. So long as they get that queue time down eh?     \n",
       "76                          PODCAST GUEST THIS WEEK!!  takes some unique parts and makes things just like Watson from Overwatch! LINK IN BIO! \\nFOLLOW ➡️  ⬅️ for more LEGO MOCs that bring smiles 😁😁 SUBSCRIBE to the Back 2 Brick PODCAST!\\n-    \n",
       "98                                                                                                                                                                              Lullaby for a Sadist on  available on      I can help 1 2 3 4 5    \n",
       "\n",
       "     sent_vader  \n",
       "57       0.9324  \n",
       "13       0.7430  \n",
       "138     -0.6490  \n",
       "76       0.9147  \n",
       "98       0.4019  "
      ]
     },
     "execution_count": 8,
     "metadata": {},
     "output_type": "execute_result"
    }
   ],
   "source": [
    "df.sample(5)"
   ]
  },
  {
   "cell_type": "markdown",
   "metadata": {},
   "source": [
    "###  `[25 pts]` Punto 2: ¿Cuál es el tuit más positivo y más negativo?"
   ]
  },
  {
   "cell_type": "markdown",
   "metadata": {},
   "source": [
    "### Tuit Más Negativo"
   ]
  },
  {
   "cell_type": "code",
   "execution_count": 9,
   "metadata": {
    "scrolled": true
   },
   "outputs": [
    {
     "data": {
      "text/html": [
       "<div>\n",
       "<style scoped>\n",
       "    .dataframe tbody tr th:only-of-type {\n",
       "        vertical-align: middle;\n",
       "    }\n",
       "\n",
       "    .dataframe tbody tr th {\n",
       "        vertical-align: top;\n",
       "    }\n",
       "\n",
       "    .dataframe thead th {\n",
       "        text-align: right;\n",
       "    }\n",
       "</style>\n",
       "<table border=\"1\" class=\"dataframe\">\n",
       "  <thead>\n",
       "    <tr style=\"text-align: right;\">\n",
       "      <th></th>\n",
       "      <th>content</th>\n",
       "      <th>sent_vader</th>\n",
       "    </tr>\n",
       "  </thead>\n",
       "  <tbody>\n",
       "    <tr>\n",
       "      <th>64</th>\n",
       "      <td>DRUNK Raging Racists           \\n</td>\n",
       "      <td>-0.876</td>\n",
       "    </tr>\n",
       "  </tbody>\n",
       "</table>\n",
       "</div>"
      ],
      "text/plain": [
       "                              content  sent_vader\n",
       "64  DRUNK Raging Racists           \\n      -0.876"
      ]
     },
     "execution_count": 9,
     "metadata": {},
     "output_type": "execute_result"
    }
   ],
   "source": [
    "df[['content', 'sent_vader']].sort_values('sent_vader', ascending = 1).head(1)"
   ]
  },
  {
   "cell_type": "markdown",
   "metadata": {},
   "source": [
    "### Tuit Más Positivo"
   ]
  },
  {
   "cell_type": "code",
   "execution_count": 10,
   "metadata": {},
   "outputs": [
    {
     "data": {
      "text/html": [
       "<div>\n",
       "<style scoped>\n",
       "    .dataframe tbody tr th:only-of-type {\n",
       "        vertical-align: middle;\n",
       "    }\n",
       "\n",
       "    .dataframe tbody tr th {\n",
       "        vertical-align: top;\n",
       "    }\n",
       "\n",
       "    .dataframe thead th {\n",
       "        text-align: right;\n",
       "    }\n",
       "</style>\n",
       "<table border=\"1\" class=\"dataframe\">\n",
       "  <thead>\n",
       "    <tr style=\"text-align: right;\">\n",
       "      <th></th>\n",
       "      <th>content</th>\n",
       "      <th>sent_vader</th>\n",
       "    </tr>\n",
       "  </thead>\n",
       "  <tbody>\n",
       "    <tr>\n",
       "      <th>19</th>\n",
       "      <td>😇 Angelic DROP! 😇\\n\\nMeet Stacy  Mercy! \\n\\nMercy is Stacys favorite  character 🥰❤ \\n\\nI know gas ⛽ is CRAZY today but this supportive sweetie will be there for you whenever you're ready!\\n\\n</td>\n",
       "      <td>0.97</td>\n",
       "    </tr>\n",
       "  </tbody>\n",
       "</table>\n",
       "</div>"
      ],
      "text/plain": [
       "                                                                                                                                                                                              content  \\\n",
       "19  😇 Angelic DROP! 😇\\n\\nMeet Stacy  Mercy! \\n\\nMercy is Stacys favorite  character 🥰❤ \\n\\nI know gas ⛽ is CRAZY today but this supportive sweetie will be there for you whenever you're ready!\\n\\n     \n",
       "\n",
       "    sent_vader  \n",
       "19        0.97  "
      ]
     },
     "execution_count": 10,
     "metadata": {},
     "output_type": "execute_result"
    }
   ],
   "source": [
    "df[['content', 'sent_vader']].sort_values('sent_vader', ascending = 0).head(1)"
   ]
  }
 ],
 "metadata": {
  "kernelspec": {
   "display_name": "Python 3",
   "language": "python",
   "name": "python3"
  },
  "language_info": {
   "codemirror_mode": {
    "name": "ipython",
    "version": 3
   },
   "file_extension": ".py",
   "mimetype": "text/x-python",
   "name": "python",
   "nbconvert_exporter": "python",
   "pygments_lexer": "ipython3",
   "version": "3.8.5"
  }
 },
 "nbformat": 4,
 "nbformat_minor": 2
}
