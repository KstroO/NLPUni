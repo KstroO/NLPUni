{
 "cells": [
  {
   "cell_type": "markdown",
   "metadata": {},
   "source": [
    "<img src='https://encrypted-tbn0.gstatic.com/images?q=tbn%3AANd9GcQ-VfNtOyJbsaxu43Kztf_cv1mgBG6ZIQZEVw&usqp=CAU'>\n",
    "\n",
    "# Procesamiento de Lenguage Natural\n",
    "\n",
    "## Taller #2: Adquisición de textos\n",
    "`Fabián Castro`"
   ]
  },
  {
   "cell_type": "code",
   "execution_count": 1,
   "metadata": {},
   "outputs": [],
   "source": [
    "#imports\n",
    "import os\n",
    "import shutil\n",
    "import fitz\n",
    "from zipfile import ZipFile"
   ]
  },
  {
   "cell_type": "code",
   "execution_count": 2,
   "metadata": {},
   "outputs": [],
   "source": [
    "# some important functions\n",
    "def maxCategory(dictionary):\n",
    "    \"\"\"\n",
    "    Function to return the category with the maximum value of a dictionary with the form {str category: int value}\n",
    "    \n",
    "    Parameters:\n",
    "    __________\n",
    "    \n",
    "    dictionary: Dict\n",
    "    Dictionary to lookup for the category (and value) with the maximum value.\n",
    "    \n",
    "    Returns: Tuple\n",
    "    ________\n",
    "    Information with the category and value that has the maximum value of the imput dictionary\n",
    "    \"\"\"\n",
    "    category = ''\n",
    "    value = 0\n",
    "    for key, item in dictionary.items():\n",
    "        if item > value:\n",
    "            category = key\n",
    "            value = item\n",
    "    return (category, value)\n",
    "\n",
    "def dropFolder(name):\n",
    "    \"\"\"\n",
    "    Check folder existance and deletes it\n",
    "    \n",
    "    Parameters:\n",
    "    __________\n",
    "    \n",
    "    name: str\n",
    "    path of the folder\n",
    "    \"\"\"\n",
    "    if os.path.isdir(name):\n",
    "        shutil.rmtree(name)"
   ]
  },
  {
   "cell_type": "markdown",
   "metadata": {},
   "source": [
    "# Punto 1:\n",
    "\n",
    "- `[18 pts]` Descomprimir el archivo `.zip` de `python_books`"
   ]
  },
  {
   "cell_type": "code",
   "execution_count": 3,
   "metadata": {},
   "outputs": [],
   "source": [
    "FILE_NAME = 'python_books'\n",
    "EXTENSION = '.zip'\n",
    "DATASET_PATH = os.path.join('..','datasets')"
   ]
  },
  {
   "cell_type": "code",
   "execution_count": 4,
   "metadata": {},
   "outputs": [],
   "source": [
    "dirPath = os.path.join(DATASET_PATH, FILE_NAME)\n",
    "filePath = os.path.join(DATASET_PATH, FILE_NAME + EXTENSION)\n",
    "\n",
    "dirExists = os.path.isdir(dirPath)\n",
    "fileExists = os.path.isfile(filePath)"
   ]
  },
  {
   "cell_type": "code",
   "execution_count": 5,
   "metadata": {},
   "outputs": [],
   "source": [
    "#switch working directory to dataset workspace\n",
    "os.chdir(DATASET_PATH)\n",
    "\n",
    "if fileExists and not(dirExists):\n",
    "    with ZipFile(filePath) as file:\n",
    "        file.extractall(path = DATASET_PATH)\n",
    "    \n",
    "    # drop __MACOSX folder\n",
    "    dropFolder('__MACOSX')"
   ]
  },
  {
   "cell_type": "markdown",
   "metadata": {},
   "source": [
    "- `[22 pts]` Leer cada uno de sus archivos"
   ]
  },
  {
   "cell_type": "code",
   "execution_count": 6,
   "metadata": {},
   "outputs": [],
   "source": [
    "os.chdir(FILE_NAME) #name of the folder of the uncompressed files"
   ]
  },
  {
   "cell_type": "code",
   "execution_count": 7,
   "metadata": {},
   "outputs": [
    {
     "name": "stdout",
     "output_type": "stream",
     "text": [
      "{'Python  Data Science Cookbook.pdf': 535, 'Python - AWS.pdf': 254, 'Python - Finance.pdf': 226}\n"
     ]
    }
   ],
   "source": [
    "pdfData = {} # list of file name and word count\n",
    "for _, _, files in os.walk('.'):\n",
    "    for file in files:\n",
    "        with fitz.open(file) as pdfFile:\n",
    "            wordCount = 0\n",
    "            for page in pdfFile:\n",
    "                wordCount += len(page.get_text().split())\n",
    "            pdfData[file] = wordCount\n",
    "print(pdfData)"
   ]
  },
  {
   "cell_type": "markdown",
   "metadata": {},
   "source": [
    "- `[10 pts]` Responder: ¿Cuál archivo tiene el mayor número de palabras?"
   ]
  },
  {
   "cell_type": "code",
   "execution_count": 9,
   "metadata": {},
   "outputs": [
    {
     "name": "stdout",
     "output_type": "stream",
     "text": [
      "El archivo con el mayor número de palabras es Python  Data Science Cookbook.pdf con 535 palabras\n"
     ]
    }
   ],
   "source": [
    "maxCat, maxVal = maxCategory(pdfData)\n",
    "print('El archivo con el mayor número de palabras es {maxCat:s} con {maxVal:d} palabras'.format(maxCat=maxCat, maxVal=maxVal))"
   ]
  }
 ],
 "metadata": {
  "kernelspec": {
   "display_name": "Python 3",
   "language": "python",
   "name": "python3"
  },
  "language_info": {
   "codemirror_mode": {
    "name": "ipython",
    "version": 3
   },
   "file_extension": ".py",
   "mimetype": "text/x-python",
   "name": "python",
   "nbconvert_exporter": "python",
   "pygments_lexer": "ipython3",
   "version": "3.8.5"
  }
 },
 "nbformat": 4,
 "nbformat_minor": 2
}
