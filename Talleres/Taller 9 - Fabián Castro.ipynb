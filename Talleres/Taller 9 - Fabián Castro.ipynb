{
 "cells": [
  {
   "cell_type": "markdown",
   "metadata": {},
   "source": [
    "<img src='https://encrypted-tbn0.gstatic.com/images?q=tbn%3AANd9GcQ-VfNtOyJbsaxu43Kztf_cv1mgBG6ZIQZEVw&usqp=CAU'>\n",
    "\n",
    "# Procesamiento de Lenguaje Natural\n",
    "\n",
    "## Taller #9: Modelado de temas\n",
    "`Fabián Castro`"
   ]
  },
  {
   "cell_type": "code",
   "execution_count": 1,
   "metadata": {},
   "outputs": [
    {
     "name": "stderr",
     "output_type": "stream",
     "text": [
      "D:\\anaconda3\\lib\\site-packages\\scipy\\sparse\\sparsetools.py:21: DeprecationWarning: `scipy.sparse.sparsetools` is deprecated!\n",
      "scipy.sparse.sparsetools is a private module for scipy.sparse, and should not be used.\n",
      "  _deprecated()\n"
     ]
    }
   ],
   "source": [
    "import re\n",
    "import pandas as pd \n",
    "from pprint import pprint\n",
    "\n",
    "from nltk.corpus import stopwords\n",
    "stopwords = stopwords.words('spanish')\n",
    "\n",
    "import pyLDAvis.gensim_models\n",
    "from gensim.models import LdaModel\n",
    "from gensim.corpora import Dictionary\n",
    "\n",
    "import warnings\n",
    "warnings.filterwarnings(\"ignore\", category=DeprecationWarning)"
   ]
  },
  {
   "cell_type": "code",
   "execution_count": 2,
   "metadata": {},
   "outputs": [
    {
     "data": {
      "text/html": [
       "<div>\n",
       "<style scoped>\n",
       "    .dataframe tbody tr th:only-of-type {\n",
       "        vertical-align: middle;\n",
       "    }\n",
       "\n",
       "    .dataframe tbody tr th {\n",
       "        vertical-align: top;\n",
       "    }\n",
       "\n",
       "    .dataframe thead th {\n",
       "        text-align: right;\n",
       "    }\n",
       "</style>\n",
       "<table border=\"1\" class=\"dataframe\">\n",
       "  <thead>\n",
       "    <tr style=\"text-align: right;\">\n",
       "      <th></th>\n",
       "      <th>review_id</th>\n",
       "      <th>product_id</th>\n",
       "      <th>reviewer_id</th>\n",
       "      <th>stars</th>\n",
       "      <th>review_body</th>\n",
       "      <th>review_title</th>\n",
       "      <th>language</th>\n",
       "      <th>product_category</th>\n",
       "    </tr>\n",
       "  </thead>\n",
       "  <tbody>\n",
       "    <tr>\n",
       "      <th>896</th>\n",
       "      <td>es_0513988</td>\n",
       "      <td>product_es_0741008</td>\n",
       "      <td>reviewer_es_0076669</td>\n",
       "      <td>1</td>\n",
       "      <td>Ofrece mucho ruido de ventiladores y poca pote...</td>\n",
       "      <td>Puff</td>\n",
       "      <td>es</td>\n",
       "      <td>video_games</td>\n",
       "    </tr>\n",
       "    <tr>\n",
       "      <th>985</th>\n",
       "      <td>es_0184814</td>\n",
       "      <td>product_es_0181891</td>\n",
       "      <td>reviewer_es_0762935</td>\n",
       "      <td>1</td>\n",
       "      <td>De rosa no tiene nada, parece cuarzo blanco.</td>\n",
       "      <td>No es rosa, es blanco</td>\n",
       "      <td>es</td>\n",
       "      <td>jewelry</td>\n",
       "    </tr>\n",
       "    <tr>\n",
       "      <th>97</th>\n",
       "      <td>es_0750013</td>\n",
       "      <td>product_es_0094489</td>\n",
       "      <td>reviewer_es_0742598</td>\n",
       "      <td>1</td>\n",
       "      <td>Me parece un engaño al 100% Pagas 4 euros más ...</td>\n",
       "      <td>Engañado con la carátula que dice ser en español</td>\n",
       "      <td>es</td>\n",
       "      <td>video_games</td>\n",
       "    </tr>\n",
       "    <tr>\n",
       "      <th>160</th>\n",
       "      <td>es_0915319</td>\n",
       "      <td>product_es_0774444</td>\n",
       "      <td>reviewer_es_0228027</td>\n",
       "      <td>1</td>\n",
       "      <td>Horrible!! Quedaron conmigo en que lo enviaban...</td>\n",
       "      <td>Horrible</td>\n",
       "      <td>es</td>\n",
       "      <td>jewelry</td>\n",
       "    </tr>\n",
       "    <tr>\n",
       "      <th>44</th>\n",
       "      <td>es_0093446</td>\n",
       "      <td>product_es_0474284</td>\n",
       "      <td>reviewer_es_0475129</td>\n",
       "      <td>3</td>\n",
       "      <td>Buen precio, pero algo mas pequeño de lo que m...</td>\n",
       "      <td>pequeño</td>\n",
       "      <td>es</td>\n",
       "      <td>jewelry</td>\n",
       "    </tr>\n",
       "  </tbody>\n",
       "</table>\n",
       "</div>"
      ],
      "text/plain": [
       "      review_id          product_id          reviewer_id  stars  \\\n",
       "896  es_0513988  product_es_0741008  reviewer_es_0076669      1   \n",
       "985  es_0184814  product_es_0181891  reviewer_es_0762935      1   \n",
       "97   es_0750013  product_es_0094489  reviewer_es_0742598      1   \n",
       "160  es_0915319  product_es_0774444  reviewer_es_0228027      1   \n",
       "44   es_0093446  product_es_0474284  reviewer_es_0475129      3   \n",
       "\n",
       "                                           review_body  \\\n",
       "896  Ofrece mucho ruido de ventiladores y poca pote...   \n",
       "985       De rosa no tiene nada, parece cuarzo blanco.   \n",
       "97   Me parece un engaño al 100% Pagas 4 euros más ...   \n",
       "160  Horrible!! Quedaron conmigo en que lo enviaban...   \n",
       "44   Buen precio, pero algo mas pequeño de lo que m...   \n",
       "\n",
       "                                         review_title language  \\\n",
       "896                                              Puff       es   \n",
       "985                             No es rosa, es blanco       es   \n",
       "97   Engañado con la carátula que dice ser en español       es   \n",
       "160                                          Horrible       es   \n",
       "44                                            pequeño       es   \n",
       "\n",
       "    product_category  \n",
       "896      video_games  \n",
       "985          jewelry  \n",
       "97       video_games  \n",
       "160          jewelry  \n",
       "44           jewelry  "
      ]
     },
     "execution_count": 2,
     "metadata": {},
     "output_type": "execute_result"
    }
   ],
   "source": [
    "# Cargar datos\n",
    "path = '../datasets/reviews_vidjew_es.csv'\n",
    "data = pd.read_csv(path)\n",
    "data.sample(5)"
   ]
  },
  {
   "cell_type": "markdown",
   "metadata": {},
   "source": [
    "###  `[12 pts]` Punto 1: Hacer pre-procesamiento del texto"
   ]
  },
  {
   "cell_type": "code",
   "execution_count": 3,
   "metadata": {
    "scrolled": true
   },
   "outputs": [],
   "source": [
    "def pre_process(text):\n",
    "    text = text.lower()\n",
    "    text = re.sub(r'[\\W\\d_]+', ' ', text)\n",
    "    return [word for word in text.split() if word not in stopwords]"
   ]
  },
  {
   "cell_type": "code",
   "execution_count": 4,
   "metadata": {},
   "outputs": [
    {
     "data": {
      "text/html": [
       "<div>\n",
       "<style scoped>\n",
       "    .dataframe tbody tr th:only-of-type {\n",
       "        vertical-align: middle;\n",
       "    }\n",
       "\n",
       "    .dataframe tbody tr th {\n",
       "        vertical-align: top;\n",
       "    }\n",
       "\n",
       "    .dataframe thead th {\n",
       "        text-align: right;\n",
       "    }\n",
       "</style>\n",
       "<table border=\"1\" class=\"dataframe\">\n",
       "  <thead>\n",
       "    <tr style=\"text-align: right;\">\n",
       "      <th></th>\n",
       "      <th>review_id</th>\n",
       "      <th>product_id</th>\n",
       "      <th>reviewer_id</th>\n",
       "      <th>stars</th>\n",
       "      <th>review_body</th>\n",
       "      <th>review_title</th>\n",
       "      <th>language</th>\n",
       "      <th>product_category</th>\n",
       "      <th>pp</th>\n",
       "    </tr>\n",
       "  </thead>\n",
       "  <tbody>\n",
       "    <tr>\n",
       "      <th>985</th>\n",
       "      <td>es_0184814</td>\n",
       "      <td>product_es_0181891</td>\n",
       "      <td>reviewer_es_0762935</td>\n",
       "      <td>1</td>\n",
       "      <td>De rosa no tiene nada, parece cuarzo blanco.</td>\n",
       "      <td>No es rosa, es blanco</td>\n",
       "      <td>es</td>\n",
       "      <td>jewelry</td>\n",
       "      <td>[rosa, parece, cuarzo, blanco]</td>\n",
       "    </tr>\n",
       "    <tr>\n",
       "      <th>817</th>\n",
       "      <td>es_0899444</td>\n",
       "      <td>product_es_0380236</td>\n",
       "      <td>reviewer_es_0550330</td>\n",
       "      <td>4</td>\n",
       "      <td>La expansión va en un código aparte del disco,...</td>\n",
       "      <td>Expansión en Código y no añadido en disco físico</td>\n",
       "      <td>es</td>\n",
       "      <td>video_games</td>\n",
       "      <td>[expansión, va, código, aparte, disco, ademas,...</td>\n",
       "    </tr>\n",
       "    <tr>\n",
       "      <th>253</th>\n",
       "      <td>es_0476924</td>\n",
       "      <td>product_es_0032366</td>\n",
       "      <td>reviewer_es_0513955</td>\n",
       "      <td>3</td>\n",
       "      <td>Son bastante pesados.</td>\n",
       "      <td>Pasables</td>\n",
       "      <td>es</td>\n",
       "      <td>jewelry</td>\n",
       "      <td>[bastante, pesados]</td>\n",
       "    </tr>\n",
       "    <tr>\n",
       "      <th>28</th>\n",
       "      <td>es_0066993</td>\n",
       "      <td>product_es_0287018</td>\n",
       "      <td>reviewer_es_0956389</td>\n",
       "      <td>1</td>\n",
       "      <td>Era el regalo de Papá Noel para mi hija y vení...</td>\n",
       "      <td>Una gran decepción</td>\n",
       "      <td>es</td>\n",
       "      <td>video_games</td>\n",
       "      <td>[regalo, papá, noel, hija, venía, perfectament...</td>\n",
       "    </tr>\n",
       "    <tr>\n",
       "      <th>226</th>\n",
       "      <td>es_0007527</td>\n",
       "      <td>product_es_0239150</td>\n",
       "      <td>reviewer_es_0752987</td>\n",
       "      <td>4</td>\n",
       "      <td>Es como espera bien de calidad aunque me queda...</td>\n",
       "      <td>Pulsera tibetana</td>\n",
       "      <td>es</td>\n",
       "      <td>jewelry</td>\n",
       "      <td>[espera, bien, calidad, aunque, queda, grande,...</td>\n",
       "    </tr>\n",
       "  </tbody>\n",
       "</table>\n",
       "</div>"
      ],
      "text/plain": [
       "      review_id          product_id          reviewer_id  stars  \\\n",
       "985  es_0184814  product_es_0181891  reviewer_es_0762935      1   \n",
       "817  es_0899444  product_es_0380236  reviewer_es_0550330      4   \n",
       "253  es_0476924  product_es_0032366  reviewer_es_0513955      3   \n",
       "28   es_0066993  product_es_0287018  reviewer_es_0956389      1   \n",
       "226  es_0007527  product_es_0239150  reviewer_es_0752987      4   \n",
       "\n",
       "                                           review_body  \\\n",
       "985       De rosa no tiene nada, parece cuarzo blanco.   \n",
       "817  La expansión va en un código aparte del disco,...   \n",
       "253                              Son bastante pesados.   \n",
       "28   Era el regalo de Papá Noel para mi hija y vení...   \n",
       "226  Es como espera bien de calidad aunque me queda...   \n",
       "\n",
       "                                         review_title language  \\\n",
       "985                             No es rosa, es blanco       es   \n",
       "817  Expansión en Código y no añadido en disco físico       es   \n",
       "253                                          Pasables       es   \n",
       "28                                 Una gran decepción       es   \n",
       "226                                  Pulsera tibetana       es   \n",
       "\n",
       "    product_category                                                 pp  \n",
       "985          jewelry                     [rosa, parece, cuarzo, blanco]  \n",
       "817      video_games  [expansión, va, código, aparte, disco, ademas,...  \n",
       "253          jewelry                                [bastante, pesados]  \n",
       "28       video_games  [regalo, papá, noel, hija, venía, perfectament...  \n",
       "226          jewelry  [espera, bien, calidad, aunque, queda, grande,...  "
      ]
     },
     "execution_count": 4,
     "metadata": {},
     "output_type": "execute_result"
    }
   ],
   "source": [
    "data['pp'] = data['review_body'].apply(lambda body: pre_process(body))\n",
    "data.sample(5)"
   ]
  },
  {
   "cell_type": "markdown",
   "metadata": {},
   "source": [
    "###  `[10 pts]` Punto 2: Modelo de LDA"
   ]
  },
  {
   "cell_type": "code",
   "execution_count": 5,
   "metadata": {},
   "outputs": [
    {
     "name": "stdout",
     "output_type": "stream",
     "text": [
      "Se han procesado 12459 palabras\n",
      "Se han procesado 11891 palabras distintas\n"
     ]
    }
   ],
   "source": [
    "#Representación en forma de diccionario\n",
    "dictionary = Dictionary(documents = data['pp'].values)\n",
    "print(f'Se han procesado {dictionary.num_pos} palabras')\n",
    "print(f'Se han procesado {dictionary.num_nnz} palabras distintas')"
   ]
  },
  {
   "cell_type": "code",
   "execution_count": 6,
   "metadata": {},
   "outputs": [
    {
     "data": {
      "text/plain": [
       "[[(0, 1), (1, 2), (2, 1), (3, 1)]]"
      ]
     },
     "execution_count": 6,
     "metadata": {},
     "output_type": "execute_result"
    }
   ],
   "source": [
    "dictionary.filter_extremes(no_below = 5,\n",
    "                           no_above = .5)\n",
    "corpus = [dictionary.doc2bow(text) for text in data['pp'].values]\n",
    "corpus[:1]"
   ]
  },
  {
   "cell_type": "code",
   "execution_count": 7,
   "metadata": {},
   "outputs": [
    {
     "data": {
      "text/plain": [
       "0    [buen, buena, calidad, buena, presentación]\n",
       "Name: pp, dtype: object"
      ]
     },
     "execution_count": 7,
     "metadata": {},
     "output_type": "execute_result"
    }
   ],
   "source": [
    "data['pp'].head(1)"
   ]
  },
  {
   "cell_type": "code",
   "execution_count": 8,
   "metadata": {},
   "outputs": [
    {
     "data": {
      "text/plain": [
       "[(0,\n",
       "  '0.057*\"calidad\" + 0.040*\"regalo\" + 0.036*\"buena\" + 0.033*\"precio\" + 0.027*\"pulsera\" + 0.026*\"buen\" + 0.022*\"bonito\" + 0.020*\"plata\"'),\n",
       " (1,\n",
       "  '0.038*\"bien\" + 0.034*\"juego\" + 0.024*\"si\" + 0.023*\"caja\" + 0.019*\"precio\" + 0.017*\"así\" + 0.016*\"calidad\" + 0.015*\"mejor\"'),\n",
       " (2,\n",
       "  '0.038*\"juego\" + 0.027*\"producto\" + 0.025*\"perfecto\" + 0.019*\"si\" + 0.019*\"viene\" + 0.018*\"solo\" + 0.017*\"entrega\" + 0.017*\"bien\"'),\n",
       " (3,\n",
       "  '0.044*\"día\" + 0.034*\"juego\" + 0.030*\"llegado\" + 0.022*\"pedido\" + 0.018*\"amazon\" + 0.017*\"después\" + 0.015*\"días\" + 0.015*\"llegar\"'),\n",
       " (4,\n",
       "  '0.038*\"bien\" + 0.035*\"foto\" + 0.028*\"bonito\" + 0.019*\"queda\" + 0.018*\"grande\" + 0.017*\"cumple\" + 0.017*\"switch\" + 0.016*\"poner\"'),\n",
       " (5,\n",
       "  '0.029*\"si\" + 0.027*\"bien\" + 0.022*\"producto\" + 0.022*\"mas\" + 0.020*\"calidad\" + 0.019*\"puede\" + 0.018*\"precio\" + 0.018*\"mando\"')]"
      ]
     },
     "execution_count": 8,
     "metadata": {},
     "output_type": "execute_result"
    }
   ],
   "source": [
    "model = LdaModel(corpus = corpus, id2word = dictionary, num_topics = 6, passes = 200)\n",
    "model.print_topics(num_words = 8)"
   ]
  },
  {
   "cell_type": "markdown",
   "metadata": {},
   "source": [
    "###  `[25 pts]` Punto 3: Visualización de LDA"
   ]
  },
  {
   "cell_type": "code",
   "execution_count": 9,
   "metadata": {},
   "outputs": [
    {
     "data": {
      "text/html": [
       "\n",
       "<link rel=\"stylesheet\" type=\"text/css\" href=\"https://cdn.jsdelivr.net/gh/bmabey/pyLDAvis@3.3.1/pyLDAvis/js/ldavis.v1.0.0.css\">\n",
       "\n",
       "\n",
       "<div id=\"ldavis_el1306426431373944961632323724\"></div>\n",
       "<script type=\"text/javascript\">\n",
       "\n",
       "var ldavis_el1306426431373944961632323724_data = {\"mdsDat\": {\"x\": [-0.024161289185533247, 0.21257915290767906, -0.006932281318814797, -0.014610694695818504, -0.2300485665693435, 0.06317367886183084], \"y\": [-0.07634198176436012, 0.1707013119098603, -0.0275626501622478, -0.02356462588776552, 0.12255652919139291, -0.16578858328687993], \"topics\": [1, 2, 3, 4, 5, 6], \"cluster\": [1, 1, 1, 1, 1, 1], \"Freq\": [25.469938854119068, 18.037534438234164, 16.31829415473139, 14.342450105282955, 13.319348713002817, 12.512433734629603]}, \"tinfo\": {\"Term\": [\"juego\", \"d\\u00eda\", \"regalo\", \"calidad\", \"buena\", \"llegado\", \"bonito\", \"pulsera\", \"foto\", \"buen\", \"si\", \"mas\", \"pedido\", \"perfecto\", \"as\\u00ed\", \"queda\", \"precio\", \"plata\", \"amazon\", \"entrega\", \"peque\\u00f1os\", \"caja\", \"mando\", \"espa\\u00f1ol\", \"bonitos\", \"grande\", \"puede\", \"despu\\u00e9s\", \"poner\", \"cumple\", \"comprar\", \"mala\", \"tampoco\", \"baja\", \"cargar\", \"corresponde\", \"par\", \"encajan\", \"falta\", \"sony\", \"volver\\u00eda\", \"acabados\", \"asi\", \"base\", \"quieres\", \"entiendo\", \"compras\", \"peque\\u00f1as\", \"one\", \"pienso\", \"entra\", \"nadie\", \"costado\", \"tan\", \"roto\", \"devolver\", \"pedir\", \"mandos\", \"voy\", \"malo\", \"puede\", \"original\", \"mal\", \"mas\", \"juegos\", \"mando\", \"botones\", \"si\", \"decir\", \"cable\", \"ps\", \"cadena\", \"producto\", \"verdad\", \"bien\", \"dos\", \"precio\", \"calidad\", \"aunque\", \"solo\", \"llegado\", \"jugar\", \"menos\", \"mejor\", \"parece\", \"gustado\", \"pulsera\", \"peque\\u00f1os\", \"regalar\", \"encantado\", \"contenta\", \"encantada\", \"pandora\", \"preciosa\", \"relaci\\u00f3n\", \"regalo\", \"elegantes\", \"preciosos\", \"precioso\", \"pulseras\", \"detalle\", \"conjunto\", \"puesta\", \"cuello\", \"collar\", \"plata\", \"puestos\", \"persona\", \"brillo\", \"colgante\", \"gust\\u00f3\", \"buena\", \"bonita\", \"junto\", \"quiz\\u00e1\", \"perfecta\", \"cierre\", \"pendientes\", \"r\\u00e1pido\", \"calidad\", \"buen\", \"compra\", \"bonitos\", \"bonito\", \"precio\", \"tama\\u00f1o\", \"env\\u00edo\", \"compr\\u00e9\", \"fotos\", \"correcto\", \"bien\", \"perfecto\", \"gustado\", \"parece\", \"sido\", \"queda\", \"cadena\", \"producto\", \"pc\", \"poder\", \"venia\", \"realidad\", \"much\\u00edsimo\", \"doy\", \"abrir\", \"imposible\", \"ruido\", \"siendo\", \"ven\", \"dia\", \"gusto\", \"xbox\", \"vino\", \"bonitas\", \"estrellas\", \"gr\\u00e1ficos\", \"c\\u00f3modos\", \"gustan\", \"sonido\", \"merece\", \"castellano\", \"ning\\u00fan\", \"materiales\", \"venido\", \"lado\", \"piedra\", \"embalaje\", \"dise\\u00f1o\", \"caja\", \"as\\u00ed\", \"mejor\", \"pena\", \"juego\", \"llego\", \"bien\", \"grandes\", \"si\", \"perfectamente\", \"dem\\u00e1s\", \"precio\", \"amazon\", \"problema\", \"versi\\u00f3n\", \"funciona\", \"calidad\", \"perfecto\", \"ahora\", \"tiempo\", \"bastante\", \"pendientes\", \"buen\", \"espa\\u00f1ol\", \"barato\", \"rompi\\u00f3\", \"tacto\", \"correctamente\", \"cierra\", \"ingles\", \"luces\", \"fea\", \"nuevo\", \"entrega\", \"italiano\", \"q\", \"opci\\u00f3n\", \"gran\", \"consola\", \"decepci\\u00f3n\", \"contento\", \"imagen\", \"condiciones\", \"cd\", \"rat\\u00f3n\", \"pone\", \"valen\", \"alta\", \"toda\", \"viene\", \"historia\", \"enviaron\", \"venga\", \"mismo\", \"perfecto\", \"solo\", \"juego\", \"producto\", \"lleg\\u00f3\", \"momento\", \"mas\", \"ve\", \"si\", \"buen\", \"bastante\", \"peque\\u00f1o\", \"va\", \"parece\", \"bien\", \"tal\", \"precio\", \"llegar\", \"entregado\", \"recibido\", \"mes\", \"todav\\u00eda\", \"pasa\", \"esperando\", \"d\\u00eda\", \"pedido\", \"peor\", \"decepcionado\", \"prime\", \"fan\", \"dorado\", \"paquete\", \"repartidor\", \"acero\", \"ni\\u00f1os\", \"ir\", \"poca\", \"llevo\", \"dicen\", \"divertido\", \"mayor\", \"d\\u00edas\", \"aun\", \"ajustar\", \"pocas\", \"interesante\", \"piel\", \"ped\\u00ed\", \"despu\\u00e9s\", \"llegado\", \"hacer\", \"amazon\", \"juego\", \"nunca\", \"hoy\", \"esperaba\", \"servicio\", \"tiempo\", \"dos\", \"ven\\u00eda\", \"casa\", \"lleg\\u00f3\", \"fin\", \"producto\", \"caja\", \"color\", \"bastante\", \"expectativas\", \"colores\", \"f\\u00e1cil\", \"fino\", \"ajusta\", \"rosa\", \"usado\", \"cuesta\", \"f\\u00e1cilmente\", \"negro\", \"pesan\", \"poner\", \"switch\", \"c\\u00f3mo\", \"cumple\", \"funda\", \"nintendo\", \"foto\", \"igual\", \"anillo\", \"todas\", \"rota\", \"puse\", \"sirve\", \"juguete\", \"sitio\", \"quedan\", \"grande\", \"peque\\u00f1a\", \"adapta\", \"sigue\", \"queda\", \"tal\", \"bonito\", \"parte\", \"color\", \"as\\u00ed\", \"bien\", \"peque\\u00f1o\", \"uso\", \"adem\\u00e1s\", \"aunque\", \"bonitos\", \"puesto\", \"mando\", \"producto\"], \"Freq\": [117.0, 49.0, 61.0, 143.0, 65.0, 50.0, 63.0, 37.0, 52.0, 60.0, 112.0, 64.0, 24.0, 59.0, 40.0, 35.0, 115.0, 34.0, 34.0, 23.0, 21.0, 47.0, 52.0, 17.0, 39.0, 30.0, 50.0, 27.0, 19.0, 24.0, 24.449315031243025, 23.512575157595023, 12.297934072941846, 8.563395307616053, 7.631074865174873, 7.627694085584198, 7.626531549851346, 6.695975558362229, 6.695927979679726, 6.695866037621373, 6.695163578771213, 6.694683303391232, 6.694030667501051, 5.761159928222621, 5.760541854205579, 5.760224064514899, 5.759575019468681, 5.7591607258465105, 5.754777651934809, 4.8272828549237055, 4.826393223332001, 4.825676849961487, 4.824941624660169, 19.725075034666624, 16.567403556491143, 9.454859127452146, 16.82112002292606, 11.911542206070255, 6.689803795301717, 11.125176105038998, 37.49115078222684, 23.244840036330586, 25.740043893556194, 41.58560342875589, 16.974262336237874, 33.827319325366226, 12.494663845692216, 56.188980516593155, 13.909126906975485, 15.408850069592873, 18.653558219152906, 20.13964515182278, 43.158443356137276, 13.953446898582387, 52.07042612538794, 18.83906480909855, 34.8740144319893, 39.1024666026662, 19.0199571645524, 19.26888164971939, 19.664827854664146, 15.601127195829768, 13.055759248448327, 14.46850050005159, 15.28299637497392, 13.316400657464884, 36.194709189377726, 20.533019077357643, 14.049432717836238, 13.123939567966161, 11.269422317243711, 8.492033110547474, 8.491390368119836, 8.490910377483965, 7.564660050332664, 54.965852387482144, 6.638056882382808, 6.637656360395259, 6.636357524807066, 6.635412165766613, 5.710489918666089, 4.785860116191395, 4.785577843552551, 4.78414995087948, 12.977343434529805, 26.84623609835952, 5.710943207836125, 8.492881835711566, 5.639006280126426, 19.00959491701538, 5.635315120349111, 48.89745856373919, 18.071835622339325, 3.8602817759303147, 3.859619325277893, 3.8560321104925848, 16.495686238956786, 19.385261654365443, 13.38139383006416, 77.31590494352116, 35.35107256177564, 20.255810816534062, 21.433355631914537, 29.40106540856187, 44.51666349878394, 18.060753242518768, 12.895480554769948, 14.806170060622339, 10.26488074926279, 10.004479153935781, 26.78903647254406, 15.755405899614635, 12.480731771923736, 13.640715923272348, 11.486619669348748, 12.140831012312594, 11.760084638961715, 13.5482983355168, 9.502644681690956, 8.631241858443161, 6.748412910913321, 6.745624569118099, 5.807193989171993, 5.80612305426632, 5.805641651196477, 5.8048249339214735, 5.804809404790188, 5.804588546034131, 5.804505148847599, 13.237980510033616, 17.74228210983029, 10.096850210884599, 7.623222365442697, 6.617505785096538, 10.24499122150997, 5.641716141349141, 5.551906573902326, 7.568035858925913, 10.13802196399293, 4.648286554767696, 5.708994664760057, 11.386260438539251, 5.663760605938101, 3.708223978154111, 5.55054748733836, 6.749648914733027, 5.4828583046779, 12.748651831704578, 28.25466541687029, 20.716408680219423, 18.09822820378507, 15.635592107528089, 41.83179870325619, 15.207185936690205, 46.9851880828207, 11.94086898356749, 29.71187078382736, 14.824930043420109, 9.612020379404203, 23.444628580941217, 12.92988944716994, 10.72530150063334, 8.019507966099521, 11.349157317827661, 19.808368610198595, 12.631735878022814, 9.01011470170511, 9.80117325060097, 9.94388366650058, 8.86032932862253, 9.648514988230616, 17.07437162404848, 10.494139344622395, 8.612224102834148, 8.611638719239712, 7.67367221641836, 6.732665055289129, 4.856161831430085, 4.853482109120846, 4.812148365612609, 13.083984546098117, 18.82772793368212, 6.61919769638862, 11.735226369663796, 5.48143643640356, 13.411733642343082, 13.972348130249088, 7.437762627861218, 6.196205981611501, 8.536344639052619, 4.853979028009732, 3.9159283573399573, 5.42076076967403, 11.671910916120675, 3.6990477797027643, 4.141900579144599, 5.609074830107856, 20.71179564813453, 5.482965106515452, 2.9775688184696647, 2.9759582553160646, 8.977587380853455, 26.934473808234596, 19.026618834311414, 41.49141086710615, 28.804660146604817, 14.687474567354846, 9.012980340249607, 17.589102755018004, 9.046405844594343, 21.00237642472112, 15.130593771938535, 13.450771347607864, 10.108123854714458, 8.832222176694897, 11.993998271210488, 18.342217453224425, 9.667767782019526, 10.230318383195554, 15.317661391943918, 14.371996334656094, 14.371083719052754, 13.422639503137475, 11.528442911774793, 9.630550790561548, 8.686398309134814, 44.774168365609235, 21.77331451117087, 5.843104493469896, 5.842608751660674, 5.840575083556936, 5.8397502555656455, 5.837785596975123, 12.318683522822235, 4.8944537184674415, 4.893760806620461, 4.893709636301138, 4.892186732485689, 7.736706758004478, 6.789991066086882, 5.843543431530144, 4.941799408510456, 4.889224487394602, 15.544575938255795, 8.677297503534843, 4.620023540318102, 3.9480431706559007, 3.947045114702866, 3.8611439974073374, 9.354738074885544, 17.372272709312156, 30.597621994858514, 12.234361408912424, 17.70315783324896, 34.05857395697326, 9.314989534178357, 6.613246905335148, 11.508408558128638, 7.5240363385632465, 10.002700786686397, 9.302518998742597, 7.09224334492137, 6.650014892304886, 8.649989453305281, 6.491339957156313, 9.887799477730113, 8.376379408622523, 7.143254989309282, 7.677987173497618, 11.442049022189774, 8.620475261775637, 8.618502173980653, 7.679939502666319, 7.678100482526604, 5.798992790850449, 4.855729372373233, 4.854963775499721, 8.567558229026393, 5.801023210208542, 5.74541115298117, 15.022122008602926, 15.724927590150143, 5.943948591978179, 16.46529681184612, 9.20358929800899, 10.846083013555567, 33.34713830051794, 11.091218665023206, 5.7992243221630035, 10.781122824457324, 6.7388291048898425, 4.446948271216483, 5.508015703545217, 3.2814070749770186, 5.999283693654535, 12.669897940709662, 16.836602475258893, 9.145085524940825, 2.978963454544053, 4.939784500082833, 18.114198432100142, 14.396173356511012, 26.90918656185814, 14.294384253295847, 9.908346798774044, 14.401045657351196, 35.551944397153974, 11.485568970733494, 9.59742979381964, 8.265408543107366, 11.30671125229155, 10.750447792122076, 7.807843573889477, 9.956818430322253, 9.354911107701897], \"Total\": [117.0, 49.0, 61.0, 143.0, 65.0, 50.0, 63.0, 37.0, 52.0, 60.0, 112.0, 64.0, 24.0, 59.0, 40.0, 35.0, 115.0, 34.0, 34.0, 23.0, 21.0, 47.0, 52.0, 17.0, 39.0, 30.0, 50.0, 27.0, 19.0, 24.0, 25.235297006618712, 24.300900382335286, 13.086436843386966, 9.348628144959513, 8.414279881403637, 8.414014518103482, 8.413970575705614, 7.479744750375561, 7.479753626126059, 7.479737911830228, 7.47969482296911, 7.479601649656348, 7.479630483868695, 6.5451982121223695, 6.545164286572924, 6.5451417162731795, 6.54510952130831, 6.545003315060633, 6.544786527014383, 5.61074605747356, 5.61066524630554, 5.610642122019868, 5.610564352222195, 23.406355437785148, 19.659941783282623, 11.225255139903497, 20.585809669040923, 14.973453848279501, 8.419879833869562, 14.04132227817046, 50.59764730666326, 31.84529557193889, 36.524960735874764, 64.54429109054054, 23.398846365091895, 52.461629673875045, 16.846910016862477, 112.55831867320748, 19.659934604262787, 22.478955868503455, 29.03285111378593, 32.61182977222061, 104.91193171376037, 23.46576300734833, 185.58101520640452, 39.42125368491385, 115.75265305659985, 143.46868715721445, 43.09672234837693, 45.97090356934586, 50.88884438913236, 33.81085545311895, 24.38309316793334, 35.63305201417825, 48.595653080819865, 32.64429478660303, 37.07293862295291, 21.320596608751543, 14.835399352124949, 13.908949046562169, 12.055926291469014, 9.276600124413932, 9.276565538755824, 9.276448917176106, 8.350081527281086, 61.282817814111404, 7.423529364160907, 7.423519228968636, 7.4234123519980315, 7.423416365327707, 6.49695916538392, 5.570646076551619, 5.570606223088315, 5.570531552874023, 15.79491336109471, 34.39723914716234, 7.436764737591759, 11.159800456041536, 7.438375515089318, 25.102540490448742, 7.446225276325801, 65.05695165548936, 26.056753026183245, 5.578249618750094, 5.5774309269081455, 5.583280733288213, 24.17981245843979, 28.874345312568767, 20.491253741815484, 143.46868715721445, 60.6019507045275, 33.52014348181345, 39.18605501424266, 63.51969856728748, 115.75265305659985, 34.53371245592167, 21.46208518863226, 27.029067227514798, 17.70506003132217, 17.72532372722443, 185.58101520640452, 59.039016393535086, 32.64429478660303, 48.595653080819865, 27.1248493592571, 35.56260492357583, 32.61182977222061, 104.91193171376037, 10.355904263569508, 9.414604038857066, 7.5310191823182535, 7.53082990665249, 6.589255794370663, 6.589193388029467, 6.589052832453519, 6.588970656655957, 6.589059668288673, 6.589034451389701, 6.5889804009717325, 15.064085294815163, 20.711963866089818, 12.22939520728588, 9.412424960760584, 8.46418222665405, 13.177640797418094, 7.528682933029846, 7.52927757008754, 10.340558936436382, 14.103710952007752, 6.586724739910988, 8.468838881590806, 16.911957620260235, 8.468698161690732, 5.637853240571143, 8.455839993824862, 10.350605367181227, 8.451358439793637, 19.744481263143374, 47.091948802618035, 40.49500682489527, 35.63305201417825, 30.99701552677303, 117.8501437119689, 33.740111127790776, 185.58101520640452, 24.38146470579545, 112.55831867320748, 37.53179598171467, 17.813767902578043, 115.75265305659985, 34.932029309627445, 24.404200345522685, 14.113133316638748, 34.786298176488096, 143.46868715721445, 59.039016393535086, 25.320797912215028, 42.252293965990475, 53.5168816084233, 28.874345312568767, 60.6019507045275, 17.85728040475542, 11.277574130113802, 9.39753927472983, 9.397343875443996, 8.457638580246678, 7.517567773107672, 5.638069439993755, 5.637833739121756, 5.638200967813593, 15.978315047037093, 23.528388820033364, 8.459671210077241, 15.927547197467431, 7.527674696095427, 18.760252328796803, 20.64265017876617, 11.266725683053886, 9.398987852412102, 13.135069229259656, 7.506428474402357, 6.581327717289685, 9.379024085652688, 20.683688187108917, 6.579672736024093, 7.4887652104931375, 10.294848654562761, 38.52460910851749, 10.351663707655957, 5.632200731800699, 5.6317377960271235, 17.790976019637526, 59.039016393535086, 45.97090356934586, 117.8501437119689, 104.91193171376037, 43.18430069146269, 21.60103240372, 64.54429109054054, 22.416546322473074, 112.55831867320748, 60.6019507045275, 53.5168816084233, 30.03796197637063, 22.56634803614594, 48.595653080819865, 185.58101520640452, 30.008148955550134, 115.75265305659985, 16.100351771918326, 15.15292991962816, 15.152835232224083, 14.2051026666501, 12.309941638702394, 10.414391879052735, 9.467111973619572, 49.184799013410654, 24.616311842093175, 6.624109158646924, 6.6240657554701246, 6.623945988889762, 6.623806851237371, 6.62369605331418, 14.195958971900446, 5.6764017107855205, 5.6762256087262255, 5.676332386290461, 5.676193592554458, 9.458975840170883, 8.511876913602272, 7.56386690005319, 6.616626035238866, 6.615508211250996, 21.74509392547887, 12.270136697500744, 6.616237872647609, 5.668626989147715, 5.670384912893222, 5.668461444147696, 14.11395985067646, 27.356457952274774, 50.88884438913236, 19.837819840020302, 34.932029309627445, 117.8501437119689, 20.709733106271432, 10.372557618390926, 34.75700366954471, 15.063083362936023, 42.252293965990475, 39.42125368491385, 14.089438045149777, 12.273862675029966, 43.18430069146269, 11.316786473942638, 104.91193171376037, 47.091948802618035, 21.638397139965083, 53.5168816084233, 12.224882829419915, 9.40321143111769, 9.403093076751816, 8.462644025373955, 8.462489910353016, 6.5815451932615465, 5.640721903631567, 5.640642358199388, 10.337164025733909, 7.52899491373283, 7.523028606527641, 19.72354936547861, 20.691794416905157, 8.464595740486999, 24.456581086790845, 14.103156900954113, 16.8932860569956, 52.486388954446795, 17.808402497064396, 9.406814896416385, 17.88134729002917, 11.284979610950629, 7.507013546436992, 9.39278147668692, 5.617130015777017, 10.340289543712395, 22.434335637997567, 30.075510359754908, 16.893086486331438, 5.628567177769186, 9.407978713457815, 35.56260492357583, 30.008148955550134, 63.51969856728748, 31.04198025422059, 21.638397139965083, 40.49500682489527, 185.58101520640452, 30.03796197637063, 23.450465524525164, 18.789421471706866, 43.09672234837693, 39.18605501424266, 16.970718364629597, 52.461629673875045, 104.91193171376037], \"Category\": [\"Default\", \"Default\", \"Default\", \"Default\", \"Default\", \"Default\", \"Default\", \"Default\", \"Default\", \"Default\", \"Default\", \"Default\", \"Default\", \"Default\", \"Default\", \"Default\", \"Default\", \"Default\", \"Default\", \"Default\", \"Default\", \"Default\", \"Default\", \"Default\", \"Default\", \"Default\", \"Default\", \"Default\", \"Default\", \"Default\", \"Topic1\", \"Topic1\", \"Topic1\", \"Topic1\", \"Topic1\", \"Topic1\", \"Topic1\", \"Topic1\", \"Topic1\", \"Topic1\", \"Topic1\", \"Topic1\", \"Topic1\", \"Topic1\", \"Topic1\", \"Topic1\", \"Topic1\", \"Topic1\", \"Topic1\", \"Topic1\", \"Topic1\", \"Topic1\", \"Topic1\", \"Topic1\", \"Topic1\", \"Topic1\", \"Topic1\", \"Topic1\", \"Topic1\", \"Topic1\", \"Topic1\", \"Topic1\", \"Topic1\", \"Topic1\", \"Topic1\", \"Topic1\", \"Topic1\", \"Topic1\", \"Topic1\", \"Topic1\", \"Topic1\", \"Topic1\", \"Topic1\", \"Topic1\", \"Topic1\", \"Topic1\", \"Topic1\", \"Topic1\", \"Topic1\", \"Topic1\", \"Topic1\", \"Topic1\", \"Topic1\", \"Topic1\", \"Topic1\", \"Topic1\", \"Topic2\", \"Topic2\", \"Topic2\", \"Topic2\", \"Topic2\", \"Topic2\", \"Topic2\", \"Topic2\", \"Topic2\", \"Topic2\", \"Topic2\", \"Topic2\", \"Topic2\", \"Topic2\", \"Topic2\", \"Topic2\", \"Topic2\", \"Topic2\", \"Topic2\", \"Topic2\", \"Topic2\", \"Topic2\", \"Topic2\", \"Topic2\", \"Topic2\", \"Topic2\", \"Topic2\", \"Topic2\", \"Topic2\", \"Topic2\", \"Topic2\", \"Topic2\", \"Topic2\", \"Topic2\", \"Topic2\", \"Topic2\", \"Topic2\", \"Topic2\", \"Topic2\", \"Topic2\", \"Topic2\", \"Topic2\", \"Topic2\", \"Topic2\", \"Topic2\", \"Topic2\", \"Topic2\", \"Topic2\", \"Topic2\", \"Topic2\", \"Topic2\", \"Topic2\", \"Topic3\", \"Topic3\", \"Topic3\", \"Topic3\", \"Topic3\", \"Topic3\", \"Topic3\", \"Topic3\", \"Topic3\", \"Topic3\", \"Topic3\", \"Topic3\", \"Topic3\", \"Topic3\", \"Topic3\", \"Topic3\", \"Topic3\", \"Topic3\", \"Topic3\", \"Topic3\", \"Topic3\", \"Topic3\", \"Topic3\", \"Topic3\", \"Topic3\", \"Topic3\", \"Topic3\", \"Topic3\", \"Topic3\", \"Topic3\", \"Topic3\", \"Topic3\", \"Topic3\", \"Topic3\", \"Topic3\", \"Topic3\", \"Topic3\", \"Topic3\", \"Topic3\", \"Topic3\", \"Topic3\", \"Topic3\", \"Topic3\", \"Topic3\", \"Topic3\", \"Topic3\", \"Topic3\", \"Topic3\", \"Topic3\", \"Topic3\", \"Topic3\", \"Topic3\", \"Topic3\", \"Topic4\", \"Topic4\", \"Topic4\", \"Topic4\", \"Topic4\", \"Topic4\", \"Topic4\", \"Topic4\", \"Topic4\", \"Topic4\", \"Topic4\", \"Topic4\", \"Topic4\", \"Topic4\", \"Topic4\", \"Topic4\", \"Topic4\", \"Topic4\", \"Topic4\", \"Topic4\", \"Topic4\", \"Topic4\", \"Topic4\", \"Topic4\", \"Topic4\", \"Topic4\", \"Topic4\", \"Topic4\", \"Topic4\", \"Topic4\", \"Topic4\", \"Topic4\", \"Topic4\", \"Topic4\", \"Topic4\", \"Topic4\", \"Topic4\", \"Topic4\", \"Topic4\", \"Topic4\", \"Topic4\", \"Topic4\", \"Topic4\", \"Topic4\", \"Topic4\", \"Topic4\", \"Topic4\", \"Topic4\", \"Topic5\", \"Topic5\", \"Topic5\", \"Topic5\", \"Topic5\", \"Topic5\", \"Topic5\", \"Topic5\", \"Topic5\", \"Topic5\", \"Topic5\", \"Topic5\", \"Topic5\", \"Topic5\", \"Topic5\", \"Topic5\", \"Topic5\", \"Topic5\", \"Topic5\", \"Topic5\", \"Topic5\", \"Topic5\", \"Topic5\", \"Topic5\", \"Topic5\", \"Topic5\", \"Topic5\", \"Topic5\", \"Topic5\", \"Topic5\", \"Topic5\", \"Topic5\", \"Topic5\", \"Topic5\", \"Topic5\", \"Topic5\", \"Topic5\", \"Topic5\", \"Topic5\", \"Topic5\", \"Topic5\", \"Topic5\", \"Topic5\", \"Topic5\", \"Topic5\", \"Topic5\", \"Topic5\", \"Topic5\", \"Topic5\", \"Topic5\", \"Topic6\", \"Topic6\", \"Topic6\", \"Topic6\", \"Topic6\", \"Topic6\", \"Topic6\", \"Topic6\", \"Topic6\", \"Topic6\", \"Topic6\", \"Topic6\", \"Topic6\", \"Topic6\", \"Topic6\", \"Topic6\", \"Topic6\", \"Topic6\", \"Topic6\", \"Topic6\", \"Topic6\", \"Topic6\", \"Topic6\", \"Topic6\", \"Topic6\", \"Topic6\", \"Topic6\", \"Topic6\", \"Topic6\", \"Topic6\", \"Topic6\", \"Topic6\", \"Topic6\", \"Topic6\", \"Topic6\", \"Topic6\", \"Topic6\", \"Topic6\", \"Topic6\", \"Topic6\", \"Topic6\", \"Topic6\", \"Topic6\", \"Topic6\", \"Topic6\", \"Topic6\"], \"logprob\": [30.0, 29.0, 28.0, 27.0, 26.0, 25.0, 24.0, 23.0, 22.0, 21.0, 20.0, 19.0, 18.0, 17.0, 16.0, 15.0, 14.0, 13.0, 12.0, 11.0, 10.0, 9.0, 8.0, 7.0, 6.0, 5.0, 4.0, 3.0, 2.0, 1.0, -4.3675, -4.4066, -5.0547, -5.4166, -5.5319, -5.5324, -5.5325, -5.6626, -5.6626, -5.6627, -5.6628, -5.6628, -5.6629, -5.813, -5.8131, -5.8132, -5.8133, -5.8134, -5.8141, -5.9899, -5.99, -5.9902, -5.9903, -4.5823, -4.7567, -5.3176, -4.7415, -5.0866, -5.6636, -5.1549, -3.94, -4.4181, -4.3161, -3.8364, -4.7324, -4.0429, -5.0388, -3.5354, -4.9316, -4.8292, -4.6381, -4.5615, -3.7993, -4.9284, -3.6115, -4.6282, -4.0124, -3.898, -4.6187, -4.6057, -4.5853, -4.8168, -4.9949, -4.8922, -4.8374, -4.9751, -3.6302, -4.1971, -4.5765, -4.6447, -4.797, -5.08, -5.08, -5.0801, -5.1956, -3.2124, -5.3263, -5.3263, -5.3265, -5.3267, -5.4768, -5.6534, -5.6535, -5.6538, -4.6559, -3.929, -5.4767, -5.0799, -5.4894, -4.2742, -5.49, -3.3294, -4.3247, -5.8684, -5.8685, -5.8695, -4.416, -4.2546, -4.6252, -2.8712, -3.6538, -4.2107, -4.1542, -3.8381, -3.4232, -4.3254, -4.6622, -4.5241, -4.8904, -4.9161, -3.9311, -4.4619, -4.6949, -4.606, -4.7779, -4.7225, -4.7544, -4.6128, -4.8674, -4.9635, -5.2096, -5.21, -5.3598, -5.36, -5.3601, -5.3602, -5.3602, -5.3603, -5.3603, -4.5358, -4.243, -4.8067, -5.0877, -5.2292, -4.7921, -5.3887, -5.4048, -5.095, -4.8026, -5.5824, -5.3769, -4.6865, -5.3848, -5.8084, -5.405, -5.2094, -5.4173, -4.5735, -3.7777, -4.088, -4.2231, -4.3694, -3.3853, -4.3972, -3.2691, -4.639, -3.7274, -4.4226, -4.8559, -3.9643, -4.5594, -4.7463, -5.0371, -4.6898, -4.1328, -4.5827, -4.9206, -4.8364, -4.822, -4.9373, -4.8521, -4.1523, -4.6391, -4.8367, -4.8368, -4.9521, -5.0829, -5.4096, -5.4102, -5.4187, -4.4185, -4.0545, -5.0999, -4.5273, -5.2885, -4.3937, -4.3528, -4.9833, -5.1659, -4.8455, -5.4101, -5.6248, -5.2996, -4.5327, -5.6818, -5.5687, -5.2655, -3.9592, -5.2882, -5.8988, -5.8993, -4.7951, -3.6965, -4.044, -3.2644, -3.6293, -4.3029, -4.7912, -4.1226, -4.7875, -3.9452, -4.2732, -4.3908, -4.6765, -4.8115, -4.5055, -4.0807, -4.7211, -4.6645, -4.1869, -4.2506, -4.2506, -4.3189, -4.471, -4.6509, -4.7541, -3.1142, -3.8352, -5.1506, -5.1507, -5.151, -5.1512, -5.1515, -4.4047, -5.3278, -5.3279, -5.3279, -5.3282, -4.8699, -5.0004, -5.1505, -5.3181, -5.3288, -4.1722, -4.7552, -5.3855, -5.5426, -5.5429, -5.5649, -4.68, -4.061, -3.4949, -4.4116, -4.0421, -3.3878, -4.6842, -5.0268, -4.4728, -4.8978, -4.613, -4.6856, -4.9569, -5.0212, -4.7583, -5.0454, -4.6246, -4.7904, -4.9497, -4.8775, -4.4161, -4.6992, -4.6995, -4.8148, -4.815, -5.0957, -5.2732, -5.2734, -4.7054, -5.0953, -5.105, -4.1438, -4.0981, -5.071, -4.0521, -4.6338, -4.4696, -3.3464, -4.4472, -5.0956, -4.4756, -4.9455, -5.3612, -5.1472, -5.6651, -5.0617, -4.3141, -4.0298, -4.6402, -5.7618, -5.256, -3.9567, -4.1864, -3.5609, -4.1935, -4.56, -4.1861, -3.2824, -4.4123, -4.5919, -4.7413, -4.428, -4.4784, -4.7982, -4.5551, -4.6175], \"loglift\": [30.0, 29.0, 28.0, 27.0, 26.0, 25.0, 24.0, 23.0, 22.0, 21.0, 20.0, 19.0, 18.0, 17.0, 16.0, 15.0, 14.0, 13.0, 12.0, 11.0, 10.0, 9.0, 8.0, 7.0, 6.0, 5.0, 4.0, 3.0, 2.0, 1.0, 1.336, 1.3347, 1.3055, 1.2799, 1.27, 1.2696, 1.2694, 1.257, 1.257, 1.257, 1.2569, 1.2568, 1.2567, 1.2401, 1.24, 1.2399, 1.2398, 1.2398, 1.239, 1.2173, 1.2171, 1.217, 1.2168, 1.1966, 1.1965, 1.196, 1.1657, 1.1389, 1.1377, 1.1349, 1.0679, 1.0529, 1.0177, 0.9281, 1.0467, 0.9289, 1.0688, 0.6729, 1.0216, 0.99, 0.9253, 0.8857, 0.4794, 0.8479, 0.0968, 0.6293, 0.168, 0.0677, 0.5497, 0.4982, 0.4169, 0.5942, 0.743, 0.4664, 0.2109, 0.471, 1.6887, 1.6751, 1.6583, 1.6546, 1.6453, 1.6243, 1.6243, 1.6242, 1.6139, 1.6039, 1.6009, 1.6008, 1.6006, 1.6005, 1.5837, 1.5609, 1.5608, 1.5605, 1.5162, 1.4649, 1.4487, 1.4396, 1.4358, 1.4347, 1.4341, 1.4272, 1.3468, 1.3446, 1.3446, 1.3426, 1.3303, 1.3143, 1.2866, 1.0945, 1.1737, 1.209, 1.1093, 0.9424, 0.7571, 1.0645, 1.2033, 1.1108, 1.1676, 1.1408, -0.2228, 0.3917, 0.7512, 0.4422, 0.8534, 0.638, 0.6928, -0.3341, 1.7269, 1.726, 1.7032, 1.7028, 1.6865, 1.6864, 1.6863, 1.6862, 1.6862, 1.6861, 1.6861, 1.6837, 1.6581, 1.6213, 1.6021, 1.5668, 1.5612, 1.5244, 1.5082, 1.5007, 1.4827, 1.4643, 1.4185, 1.4173, 1.4106, 1.3939, 1.3919, 1.3853, 1.3802, 1.3754, 1.302, 1.1426, 1.1354, 1.1285, 0.7771, 1.016, 0.4392, 1.099, 0.481, 0.884, 1.1959, 0.2161, 0.819, 0.9907, 1.2477, 0.6928, -0.1671, 0.2709, 0.7796, 0.3517, 0.1298, 0.6315, -0.0246, 1.8971, 1.8699, 1.8547, 1.8546, 1.8447, 1.8317, 1.7927, 1.7921, 1.7835, 1.7421, 1.7191, 1.6966, 1.6365, 1.6247, 1.6063, 1.5517, 1.5267, 1.5253, 1.511, 1.506, 1.4228, 1.3937, 1.3698, 1.366, 1.3497, 1.3347, 1.3214, 1.3064, 1.3046, 1.3041, 1.258, 1.1572, 1.0598, 0.898, 0.6494, 0.8635, 1.0679, 0.6419, 1.0345, 0.2631, 0.5543, 0.561, 0.8528, 1.0039, 0.5428, -0.3723, 0.8093, -0.4842, 1.9661, 1.963, 1.963, 1.9593, 1.9504, 1.9377, 1.9299, 1.922, 1.8932, 1.8905, 1.8904, 1.8901, 1.89, 1.8897, 1.8741, 1.8677, 1.8676, 1.8676, 1.8673, 1.815, 1.7899, 1.7579, 1.7241, 1.7136, 1.6803, 1.6695, 1.6568, 1.6542, 1.6537, 1.632, 1.6047, 1.5619, 1.5072, 1.5326, 1.3363, 0.7746, 1.217, 1.5659, 0.9106, 1.3218, 0.5751, 0.5719, 1.3295, 1.4031, 0.408, 1.4601, -0.3459, 0.2893, 0.9077, 0.0743, 2.0123, 1.9915, 1.9913, 1.9814, 1.9812, 1.9519, 1.9286, 1.9285, 1.8907, 1.8177, 1.8089, 1.8062, 1.804, 1.7249, 1.6828, 1.6516, 1.6353, 1.6249, 1.6049, 1.5947, 1.5725, 1.5629, 1.5548, 1.5447, 1.5409, 1.534, 1.5071, 1.4983, 1.4648, 1.4422, 1.4342, 1.4038, 1.3439, 1.2196, 1.303, 1.2974, 1.0446, 0.426, 1.1171, 1.1851, 1.2572, 0.7404, 0.7851, 1.3021, 0.4166, -0.3388]}, \"token.table\": {\"Topic\": [3, 1, 5, 1, 6, 1, 5, 6, 1, 2, 3, 4, 5, 6, 3, 5, 1, 2, 4, 1, 3, 5, 6, 3, 6, 1, 3, 4, 5, 6, 1, 5, 1, 2, 3, 4, 6, 1, 4, 1, 1, 2, 3, 4, 5, 6, 1, 2, 3, 4, 5, 6, 2, 4, 6, 1, 3, 2, 3, 6, 2, 3, 6, 1, 4, 6, 2, 6, 2, 3, 4, 1, 2, 3, 1, 3, 6, 1, 2, 2, 3, 4, 5, 6, 1, 2, 3, 4, 5, 1, 3, 4, 5, 6, 3, 4, 3, 4, 4, 1, 2, 5, 2, 4, 2, 3, 2, 4, 5, 6, 6, 1, 2, 4, 6, 1, 1, 1, 2, 5, 1, 4, 2, 1, 4, 2, 4, 6, 4, 2, 3, 6, 1, 1, 2, 6, 3, 4, 6, 3, 6, 3, 6, 5, 1, 3, 4, 1, 4, 6, 2, 3, 4, 1, 5, 6, 2, 1, 3, 3, 6, 4, 5, 1, 3, 4, 4, 5, 5, 1, 2, 3, 4, 5, 3, 2, 5, 5, 6, 2, 2, 3, 4, 1, 2, 2, 1, 1, 4, 5, 5, 1, 4, 6, 1, 2, 3, 5, 4, 1, 2, 4, 5, 6, 5, 3, 4, 6, 1, 5, 4, 1, 4, 5, 6, 6, 1, 2, 3, 6, 1, 2, 3, 4, 1, 3, 4, 5, 6, 4, 6, 6, 1, 6, 1, 2, 4, 1, 4, 5, 6, 2, 3, 6, 3, 4, 1, 2, 6, 1, 3, 3, 4, 2, 5, 4, 5, 6, 3, 4, 5, 1, 5, 1, 2, 5, 6, 1, 4, 3, 4, 3, 5, 5, 3, 4, 3, 4, 5, 1, 4, 1, 3, 4, 5, 2, 6, 1, 2, 1, 3, 1, 5, 5, 1, 2, 3, 4, 1, 2, 3, 4, 5, 5, 6, 4, 1, 3, 5, 6, 1, 1, 4, 5, 1, 3, 6, 1, 3, 1, 2, 4, 3, 4, 4, 5, 1, 2, 3, 1, 3, 4, 5, 6, 3, 6, 5, 1, 2, 4, 6, 1, 2, 3, 4, 6, 3, 1, 5, 6, 1, 3, 1, 6, 5, 4, 6, 1, 2, 4, 5, 6, 1, 4, 5, 1, 5, 6, 2, 4, 5, 1, 1, 2, 4, 6, 3, 4, 6, 5, 3, 3, 5, 1, 3, 2, 5, 1, 3, 4, 6, 2, 3, 5, 1, 4, 6, 1, 1, 4, 6, 2, 2, 4, 1, 2, 3, 5, 6, 2, 3, 4, 5, 2, 3, 3, 6, 3, 4, 5, 6, 1, 2, 3, 6, 4, 5, 4, 5, 3, 3, 4, 6, 1, 6, 1, 2, 3, 4, 6, 2, 2, 2, 5, 1, 3, 6, 1, 2, 4, 5, 6, 1, 3, 4, 1, 3, 5, 2, 4, 5, 6, 2, 4, 2, 2, 1, 6, 2, 4, 2, 3, 6, 2, 6, 1, 1, 2, 1, 4, 3, 5, 2, 2, 5, 2, 5, 4, 6, 3, 4, 6, 1, 5, 3, 2, 3, 4, 2, 3, 5, 6, 1, 3, 4, 5, 6, 1, 2, 3, 4, 5, 3, 3, 6, 1, 3, 6, 1, 3, 6, 1, 3, 4, 5, 6, 2, 3, 4, 1, 3, 4, 6, 4, 2, 4, 6, 2, 3, 4, 6, 1, 1, 5, 1, 2, 3, 4, 5, 2, 4, 6, 1, 4, 5, 6, 5, 6, 1, 4, 6, 1, 4, 5, 6, 3, 4, 6, 1, 2, 3, 4, 3, 2, 4, 5, 3, 1, 3, 2, 5, 6, 1, 5, 6, 3, 4, 1, 3, 4, 6, 3, 4, 1, 1, 6, 1, 3], \"Freq\": [0.9106012886173539, 0.9358787175947554, 0.8808670311330394, 0.3553302175905939, 0.5329953263858909, 0.3725500548561651, 0.15966430922407077, 0.42577149126418873, 0.2764525835350206, 0.15797290487715462, 0.3554390359735979, 0.039493226219288656, 0.15797290487715462, 0.9453482467627873, 0.15114329612212563, 0.755716480610628, 0.13353336256273812, 0.26706672512547625, 0.5341334502509525, 0.05725404562880032, 0.3721512965872021, 0.5152864106592029, 0.05725404562880032, 0.31891772433439486, 0.6378354486687897, 0.9358751097526659, 0.5185824536542553, 0.024694402554964533, 0.09877761021985813, 0.3457216357695035, 0.24449605362677485, 0.7334881608803245, 0.44086879383567695, 0.06961086218458057, 0.0928144829127741, 0.13922172436916114, 0.2552398280101288, 0.962708095823933, 0.8867155191911019, 0.91670256660637, 0.14948554100246453, 0.13079984837715644, 0.18685692625308065, 0.24291400412900485, 0.14948554100246453, 0.14948554100246453, 0.2802010752132444, 0.1454890198222615, 0.25325866413504783, 0.09699267988150767, 0.03233089329383589, 0.19398535976301534, 0.6907998084762372, 0.23026660282541242, 0.038377767137568734, 0.11814490440091896, 0.8270143308064327, 0.4565512849416282, 0.1102020342962551, 0.4250649894284125, 0.5359049282293736, 0.17863497607645787, 0.2807121052630052, 0.7122967943669736, 0.0593580661972478, 0.1780741985917434, 0.8066277358313704, 0.13443795597189506, 0.5775391648801362, 0.16501118996575323, 0.24751678494862983, 0.12296918002497552, 0.753186227652975, 0.12296918002497552, 0.6672907802189049, 0.2224302600729683, 0.04448605201459366, 0.6132743896828625, 0.3679646338097175, 0.04247010478124048, 0.5945814669373667, 0.04247010478124048, 0.1698804191249619, 0.12741031434372144, 0.27183632033423016, 0.5367024786086083, 0.13940324119704112, 0.027880648239408223, 0.027880648239408223, 0.9507646658724491, 0.08147394397970634, 0.08147394397970634, 0.5703176078579444, 0.244421831939119, 0.7084796492046318, 0.2361598830682106, 0.30389004862131946, 0.6077800972426389, 0.9311522305180742, 0.2481408824122514, 0.6617090197660038, 0.08271362747075048, 0.7568955025579703, 0.19918302698893955, 0.8230497820913022, 0.12662304339866187, 0.1386424318120654, 0.04621414393735514, 0.3234990075614859, 0.46214143937355134, 0.9571198165572076, 0.11933123144804626, 0.5966561572402314, 0.20882965503408096, 0.029832807862011566, 0.9510488421715537, 0.9167149885676248, 0.2959776574108423, 0.5549581076453293, 0.14798882870542115, 0.266438294432591, 0.6660957360814774, 0.8975619580368558, 0.2906603535902494, 0.6782074917105819, 0.9124143374851084, 0.6383666086407586, 0.3191833043203793, 0.9458905017157483, 0.5641645903843742, 0.2820822951921871, 0.11283291807687484, 0.9507946513269386, 0.8911759470363501, 0.897580410871263, 0.8864238649578389, 0.2044439483285148, 0.08177757933140592, 0.6542206346512474, 0.236278265532966, 0.7088347965988979, 0.7968892027353217, 0.1328148671225536, 0.9057881098244271, 0.17751386305678588, 0.08875693152839294, 0.6212985206987506, 0.7121081672857871, 0.05086486909184194, 0.20345947636736775, 0.22454542025447138, 0.5613635506361785, 0.16840906519085355, 0.2558810797878871, 0.6214254794848687, 0.07310887993939631, 0.923508959694292, 0.8017635134195598, 0.08908483482439553, 0.8629797127127532, 0.06638305482405794, 0.1322075088329447, 0.793245052997668, 0.15194119106081758, 0.6584118279302095, 0.15194119106081758, 0.15113442934120713, 0.7556721467060358, 0.9058386664644564, 0.4819735098194283, 0.05073405366520298, 0.17756918782821043, 0.05073405366520298, 0.2283032414934134, 0.910581864375107, 0.0813259397259988, 0.9149168219174865, 0.7357981554291055, 0.2759243082859146, 0.942947708106927, 0.11832417322302304, 0.5916208661151152, 0.11832417322302304, 0.9358608125830132, 0.8623849139455514, 0.9346500556210728, 0.9167104793288441, 0.8911599214179378, 0.8075351077087929, 0.17000739109658797, 0.9239137298368465, 0.1775504900515655, 0.5326514701546965, 0.1775504900515655, 0.04659379511407709, 0.6057193364830021, 0.09318759022815418, 0.18637518045630835, 0.9519926671181617, 0.25894061771170773, 0.11508471898298123, 0.14385589872872653, 0.3452541569489437, 0.11508471898298123, 0.9506595068357494, 0.7588611765741337, 0.15177223531482673, 0.8998041252001073, 0.9358597020561846, 0.9058235142951307, 0.8868076942526798, 0.17672861501850207, 0.08836430750925103, 0.5301858450555061, 0.08836430750925103, 0.945331030823607, 0.13336791003235784, 0.19052558576051118, 0.057157675728153355, 0.6287344330096869, 0.1129620569747735, 0.5648102848738675, 0.225924113949547, 0.05648102848738675, 0.25872255663245763, 0.31621645810633714, 0.20122865515857818, 0.1437347536846987, 0.08624085221081922, 0.28362444154112687, 0.6381549934675355, 0.9571318635834392, 0.09673833147181805, 0.8706449832463625, 0.2132167483621763, 0.053304187090544075, 0.692954432177073, 0.09974893074514223, 0.2659971486537126, 0.033249643581714075, 0.5652439408891393, 0.2460885788610479, 0.4921771577220958, 0.2460885788610479, 0.796952143339281, 0.13282535722321348, 0.39823191418229387, 0.36759869001442513, 0.18379934500721257, 0.1934131425867827, 0.7736525703471308, 0.8690629298301396, 0.09656254775890438, 0.8057773942290108, 0.13429623237150182, 0.10081753015849312, 0.6049051809509587, 0.2520438253962328, 0.2898084872851152, 0.483014145475192, 0.0966028290950384, 0.28922471297540825, 0.6748576636092859, 0.05615326810840241, 0.22461307243360965, 0.05615326810840241, 0.6176859491924265, 0.3045282769495883, 0.6851886231365737, 0.9106126453817185, 0.8868283821643634, 0.17635487102934008, 0.7054194841173603, 0.8808719996017347, 0.1182079037313874, 0.8274553261197117, 0.3563848008760168, 0.3478994484742069, 0.2885019816615374, 0.7265315449637654, 0.2564228982225054, 0.4732207980417736, 0.20703409914327595, 0.1183051995104434, 0.1774577992656651, 0.356053713263274, 0.534080569894911, 0.17926770373249587, 0.7170708149299835, 0.23652292397450303, 0.7095687719235091, 0.39301344410703754, 0.6091708383659081, 0.9316566626924561, 0.29638313762882906, 0.14819156881441453, 0.4445747064432436, 0.11855325505153162, 0.1389393808381426, 0.1620959443111664, 0.1620959443111664, 0.34734845209535653, 0.20840907125721392, 0.8223803129499863, 0.11748290184999804, 0.8868654577917517, 0.7118419698795962, 0.08213561190918418, 0.027378537303061393, 0.19164976112142976, 0.9876177270141803, 0.7834020031789531, 0.07121836392535938, 0.07121836392535938, 0.648092714834808, 0.15249240349054305, 0.1906155043631788, 0.8014183047940432, 0.13356971746567387, 0.6507159547400377, 0.07746618508809973, 0.27887826631715906, 0.7084914216380728, 0.23616380721269092, 0.15115996656149558, 0.7557998328074779, 0.39289365374679264, 0.08419149723145557, 0.5051489833887334, 0.5331563108283793, 0.123036071729626, 0.041012023909875336, 0.08202404781975067, 0.20506011954937667, 0.7591026188939496, 0.15182052377878993, 0.9151641001877889, 0.2248330836703301, 0.16862481275274757, 0.5058744382582427, 0.05620827091758252, 0.13888225080776037, 0.046294083602586786, 0.13888225080776037, 0.4166467524232811, 0.23147041801293394, 0.9105732403234252, 0.8911635943373923, 0.1328198533081763, 0.7969191198490578, 0.2956488014143369, 0.6504273631115411, 0.2959755717822273, 0.6511462579209, 0.8808504611315668, 0.8136026834951304, 0.12516964361463545, 0.24143237261159456, 0.04828647452231891, 0.19314589808927565, 0.4345782707008702, 0.09657294904463783, 0.9167602297239625, 0.6642157375096827, 0.13284314750193651, 0.7222416870976354, 0.09420543744751765, 0.1570090624125294, 0.8623881291602412, 0.07044258172198195, 0.8453109806637834, 0.9507996169013346, 0.3086695835747565, 0.2880916113364394, 0.2469356668598052, 0.1440458056682197, 0.28992995699030266, 0.2577155173247135, 0.45100215531824855, 0.9602096902185683, 0.9656327197981615, 0.08124693954274897, 0.8937163349702388, 0.8258115795934111, 0.14573145522236666, 0.28340735288461844, 0.6376665439903915, 0.29035053365787544, 0.5161787265028897, 0.16130585203215303, 0.0322611704064306, 0.6580235774810609, 0.3116953788068183, 0.9057821748253907, 0.29597906836300214, 0.11839162734520085, 0.5327623230534039, 0.9167298641688184, 0.2663296533331123, 0.3329120666663904, 0.36620327333302943, 0.9849630563987151, 0.7164246598154206, 0.17910616495385515, 0.07993222603740005, 0.23979667811220015, 0.3996611301870002, 0.13322037672900008, 0.1598644520748001, 0.27100722500776686, 0.2201933703188106, 0.4573246922006066, 0.050813854688956286, 0.716858695772564, 0.179214673943141, 0.13292518908306586, 0.7975511344983951, 0.6762889465571718, 0.2898381199530736, 0.7056588528320555, 0.17641471320801388, 0.8911470861063047, 0.7849467186737111, 0.11628840276647573, 0.0872163020748568, 0.10571969068291165, 0.8457575254632932, 0.17640956124198098, 0.7056382449679239, 0.9559616063356607, 0.048347276895387, 0.580167322744644, 0.33843093826770904, 0.20280325441834773, 0.760512204068804, 0.3023688794665118, 0.3887599878855152, 0.19869954936370776, 0.08639110841900337, 0.025917332525701012, 0.8623989709238137, 0.9429625713996517, 0.9429489954958362, 0.9058044872442654, 0.4097655263609016, 0.45074207899699176, 0.12292965790827048, 0.4098675841497261, 0.1334452599557248, 0.27642232419400137, 0.0953180428255177, 0.08578623854296594, 0.654431076215524, 0.06888748170689726, 0.27554992682758905, 0.73125929701335, 0.13834635348901217, 0.11858258870486757, 0.8975683794120394, 0.17677507430991288, 0.35355014861982575, 0.47140019815976764, 0.8068024486065664, 0.13446707476776104, 0.9710587112107529, 0.9429620616047696, 0.2664175291050657, 0.5328350582101314, 0.2511372247345167, 0.7534116742035502, 0.3374330993409522, 0.14059712472539676, 0.5061496490114283, 0.40117078326832584, 0.5794689091653595, 0.9167073181506993, 0.17929401782019935, 0.7171760712807974, 0.3198627034756388, 0.5331045057927313, 0.9295124291436231, 0.9239195032113555, 0.9436887857012565, 0.8974783138535011, 0.09790672514765467, 0.9580744779392498, 0.8808397035219839, 0.9576975138801684, 0.9116400212738862, 0.17722672693703903, 0.17722672693703903, 0.6202935442796366, 0.864702458806646, 0.101729701036076, 0.9106003439119462, 0.6344170134144377, 0.19520523489675004, 0.14640392617256254, 0.19916241102281562, 0.19916241102281562, 0.5310997627275084, 0.06638747034093855, 0.49751986934511494, 0.266528501434883, 0.18656995100441812, 0.03553713352465107, 0.008884283381162768, 0.14746625675304958, 0.40553220607088636, 0.07373312837652479, 0.11059969256478717, 0.22119938512957435, 0.9106038288712444, 0.425171030019246, 0.5314637875240574, 0.21292947195290785, 0.10646473597645392, 0.6387884158587236, 0.09670909076313715, 0.29012727228941143, 0.5802545445788229, 0.41330490646847995, 0.0870115592565221, 0.41330490646847995, 0.06525866944239157, 0.021752889814130524, 0.07090332490525436, 0.7090332490525436, 0.14180664981050872, 0.9358616682181528, 0.14498500901154351, 0.09665667267436234, 0.7732533813948987, 0.9577174273166392, 0.16662140698535918, 0.33324281397071837, 0.46653993955900575, 0.5212297989384992, 0.23165768841711076, 0.11582884420855538, 0.11582884420855538, 0.9169799345391728, 0.8544687810607956, 0.12817031715911933, 0.23667354033012158, 0.14200412419807296, 0.23667354033012158, 0.1656714782310851, 0.23667354033012158, 0.29140787792643996, 0.5828157558528799, 0.09713595930881333, 0.11184839528927563, 0.05592419764463782, 0.22369679057855127, 0.6151661740910159, 0.9748218433686201, 0.886411364612912, 0.3837876902949984, 0.17057230679777705, 0.4264307669944426, 0.22156885961304795, 0.3988239473034863, 0.17725508769043835, 0.17725508769043835, 0.15198324295446208, 0.6079329718178483, 0.15198324295446208, 0.13382971474925354, 0.4014891442477606, 0.04460990491641785, 0.4014891442477606, 0.9106112986942759, 0.17756508492022555, 0.5326952547606766, 0.17756508492022555, 0.929489067885392, 0.17737247802120776, 0.709489912084831, 0.35487575756942463, 0.4968260605971945, 0.14195030302776984, 0.596613883623383, 0.2556916644100213, 0.12784583220501064, 0.5668479012076192, 0.354279938254762, 0.12978717021932196, 0.15574460426318634, 0.5451061149211521, 0.18170203830705073, 0.8499403749141337, 0.10624254686426671, 0.935867059509429, 0.8313657840866095, 0.11876654058380136, 0.16354038495775036, 0.8177019247887518], \"Term\": [\"abrir\", \"acabados\", \"acero\", \"adapta\", \"adapta\", \"adem\\u00e1s\", \"adem\\u00e1s\", \"adem\\u00e1s\", \"ahora\", \"ahora\", \"ahora\", \"ahora\", \"ahora\", \"ajusta\", \"ajustar\", \"ajustar\", \"alta\", \"alta\", \"alta\", \"amazon\", \"amazon\", \"amazon\", \"amazon\", \"anillo\", \"anillo\", \"asi\", \"as\\u00ed\", \"as\\u00ed\", \"as\\u00ed\", \"as\\u00ed\", \"aun\", \"aun\", \"aunque\", \"aunque\", \"aunque\", \"aunque\", \"aunque\", \"baja\", \"barato\", \"base\", \"bastante\", \"bastante\", \"bastante\", \"bastante\", \"bastante\", \"bastante\", \"bien\", \"bien\", \"bien\", \"bien\", \"bien\", \"bien\", \"bonita\", \"bonita\", \"bonita\", \"bonitas\", \"bonitas\", \"bonito\", \"bonito\", \"bonito\", \"bonitos\", \"bonitos\", \"bonitos\", \"botones\", \"botones\", \"botones\", \"brillo\", \"brillo\", \"buen\", \"buen\", \"buen\", \"buena\", \"buena\", \"buena\", \"cable\", \"cable\", \"cable\", \"cadena\", \"cadena\", \"caja\", \"caja\", \"caja\", \"caja\", \"caja\", \"calidad\", \"calidad\", \"calidad\", \"calidad\", \"calidad\", \"cargar\", \"casa\", \"casa\", \"casa\", \"casa\", \"castellano\", \"castellano\", \"cd\", \"cd\", \"cierra\", \"cierre\", \"cierre\", \"cierre\", \"colgante\", \"colgante\", \"collar\", \"collar\", \"color\", \"color\", \"color\", \"color\", \"colores\", \"compra\", \"compra\", \"compra\", \"compra\", \"comprar\", \"compras\", \"compr\\u00e9\", \"compr\\u00e9\", \"compr\\u00e9\", \"condiciones\", \"condiciones\", \"conjunto\", \"consola\", \"consola\", \"contenta\", \"contento\", \"contento\", \"correctamente\", \"correcto\", \"correcto\", \"correcto\", \"corresponde\", \"costado\", \"cuello\", \"cuesta\", \"cumple\", \"cumple\", \"cumple\", \"c\\u00f3mo\", \"c\\u00f3mo\", \"c\\u00f3modos\", \"c\\u00f3modos\", \"decepcionado\", \"decepci\\u00f3n\", \"decepci\\u00f3n\", \"decepci\\u00f3n\", \"decir\", \"decir\", \"decir\", \"dem\\u00e1s\", \"dem\\u00e1s\", \"dem\\u00e1s\", \"despu\\u00e9s\", \"despu\\u00e9s\", \"despu\\u00e9s\", \"detalle\", \"devolver\", \"devolver\", \"dia\", \"dia\", \"dicen\", \"dicen\", \"dise\\u00f1o\", \"dise\\u00f1o\", \"dise\\u00f1o\", \"divertido\", \"divertido\", \"dorado\", \"dos\", \"dos\", \"dos\", \"dos\", \"dos\", \"doy\", \"d\\u00eda\", \"d\\u00eda\", \"d\\u00edas\", \"d\\u00edas\", \"elegantes\", \"embalaje\", \"embalaje\", \"embalaje\", \"encajan\", \"encantada\", \"encantado\", \"entiendo\", \"entra\", \"entrega\", \"entrega\", \"entregado\", \"enviaron\", \"enviaron\", \"enviaron\", \"env\\u00edo\", \"env\\u00edo\", \"env\\u00edo\", \"env\\u00edo\", \"espa\\u00f1ol\", \"esperaba\", \"esperaba\", \"esperaba\", \"esperaba\", \"esperaba\", \"esperando\", \"estrellas\", \"estrellas\", \"expectativas\", \"falta\", \"fan\", \"fea\", \"fin\", \"fin\", \"fin\", \"fin\", \"fino\", \"foto\", \"foto\", \"foto\", \"foto\", \"fotos\", \"fotos\", \"fotos\", \"fotos\", \"funciona\", \"funciona\", \"funciona\", \"funciona\", \"funciona\", \"funda\", \"funda\", \"f\\u00e1cil\", \"f\\u00e1cilmente\", \"f\\u00e1cilmente\", \"gran\", \"gran\", \"gran\", \"grande\", \"grande\", \"grande\", \"grande\", \"grandes\", \"grandes\", \"grandes\", \"gr\\u00e1ficos\", \"gr\\u00e1ficos\", \"gustado\", \"gustado\", \"gustado\", \"gustan\", \"gustan\", \"gusto\", \"gusto\", \"gust\\u00f3\", \"gust\\u00f3\", \"hacer\", \"hacer\", \"hacer\", \"historia\", \"historia\", \"historia\", \"hoy\", \"hoy\", \"igual\", \"igual\", \"igual\", \"igual\", \"imagen\", \"imagen\", \"imposible\", \"ingles\", \"interesante\", \"interesante\", \"ir\", \"italiano\", \"italiano\", \"juego\", \"juego\", \"juego\", \"juegos\", \"juegos\", \"jugar\", \"jugar\", \"jugar\", \"jugar\", \"juguete\", \"juguete\", \"junto\", \"junto\", \"lado\", \"lado\", \"llegado\", \"llegado\", \"llegar\", \"llego\", \"llego\", \"llego\", \"llego\", \"lleg\\u00f3\", \"lleg\\u00f3\", \"lleg\\u00f3\", \"lleg\\u00f3\", \"lleg\\u00f3\", \"llevo\", \"llevo\", \"luces\", \"mal\", \"mal\", \"mal\", \"mal\", \"mala\", \"malo\", \"malo\", \"malo\", \"mando\", \"mando\", \"mando\", \"mandos\", \"mandos\", \"mas\", \"mas\", \"mas\", \"materiales\", \"materiales\", \"mayor\", \"mayor\", \"mejor\", \"mejor\", \"mejor\", \"menos\", \"menos\", \"menos\", \"menos\", \"menos\", \"merece\", \"merece\", \"mes\", \"mismo\", \"mismo\", \"mismo\", \"mismo\", \"momento\", \"momento\", \"momento\", \"momento\", \"momento\", \"much\\u00edsimo\", \"nadie\", \"negro\", \"negro\", \"ning\\u00fan\", \"ning\\u00fan\", \"nintendo\", \"nintendo\", \"ni\\u00f1os\", \"nuevo\", \"nuevo\", \"nunca\", \"nunca\", \"nunca\", \"nunca\", \"nunca\", \"one\", \"opci\\u00f3n\", \"opci\\u00f3n\", \"original\", \"original\", \"original\", \"pandora\", \"paquete\", \"paquete\", \"par\", \"parece\", \"parece\", \"parece\", \"parece\", \"parte\", \"parte\", \"parte\", \"pasa\", \"pc\", \"pedido\", \"pedido\", \"pedir\", \"pedir\", \"ped\\u00ed\", \"ped\\u00ed\", \"pena\", \"pena\", \"pena\", \"pena\", \"pendientes\", \"pendientes\", \"peor\", \"peque\\u00f1a\", \"peque\\u00f1a\", \"peque\\u00f1a\", \"peque\\u00f1as\", \"peque\\u00f1o\", \"peque\\u00f1o\", \"peque\\u00f1o\", \"peque\\u00f1os\", \"perfecta\", \"perfecta\", \"perfectamente\", \"perfectamente\", \"perfectamente\", \"perfectamente\", \"perfectamente\", \"perfecto\", \"perfecto\", \"perfecto\", \"perfecto\", \"persona\", \"persona\", \"pesan\", \"pesan\", \"piedra\", \"piedra\", \"piel\", \"piel\", \"pienso\", \"plata\", \"plata\", \"plata\", \"poca\", \"poca\", \"pocas\", \"pocas\", \"poder\", \"pone\", \"pone\", \"pone\", \"poner\", \"poner\", \"precio\", \"precio\", \"precio\", \"precio\", \"precio\", \"preciosa\", \"precioso\", \"preciosos\", \"prime\", \"problema\", \"problema\", \"problema\", \"producto\", \"producto\", \"producto\", \"producto\", \"producto\", \"ps\", \"ps\", \"ps\", \"puede\", \"puede\", \"puede\", \"puesta\", \"puesto\", \"puesto\", \"puesto\", \"puestos\", \"puestos\", \"pulsera\", \"pulseras\", \"puse\", \"puse\", \"q\", \"q\", \"queda\", \"queda\", \"queda\", \"quedan\", \"quedan\", \"quieres\", \"quiz\\u00e1\", \"quiz\\u00e1\", \"rat\\u00f3n\", \"rat\\u00f3n\", \"realidad\", \"recibido\", \"regalar\", \"regalo\", \"regalo\", \"relaci\\u00f3n\", \"repartidor\", \"rompi\\u00f3\", \"rosa\", \"rota\", \"rota\", \"rota\", \"roto\", \"roto\", \"ruido\", \"r\\u00e1pido\", \"r\\u00e1pido\", \"r\\u00e1pido\", \"servicio\", \"servicio\", \"servicio\", \"servicio\", \"si\", \"si\", \"si\", \"si\", \"si\", \"sido\", \"sido\", \"sido\", \"sido\", \"sido\", \"siendo\", \"sigue\", \"sigue\", \"sirve\", \"sirve\", \"sirve\", \"sitio\", \"sitio\", \"sitio\", \"solo\", \"solo\", \"solo\", \"solo\", \"solo\", \"sonido\", \"sonido\", \"sonido\", \"sony\", \"switch\", \"switch\", \"switch\", \"tacto\", \"tal\", \"tal\", \"tal\", \"tama\\u00f1o\", \"tama\\u00f1o\", \"tama\\u00f1o\", \"tama\\u00f1o\", \"tampoco\", \"tan\", \"tan\", \"tiempo\", \"tiempo\", \"tiempo\", \"tiempo\", \"tiempo\", \"toda\", \"toda\", \"toda\", \"todas\", \"todas\", \"todas\", \"todas\", \"todav\\u00eda\", \"usado\", \"uso\", \"uso\", \"uso\", \"va\", \"va\", \"va\", \"va\", \"valen\", \"valen\", \"valen\", \"ve\", \"ve\", \"ve\", \"ve\", \"ven\", \"venga\", \"venga\", \"venga\", \"venia\", \"venido\", \"venido\", \"ven\\u00eda\", \"ven\\u00eda\", \"ven\\u00eda\", \"verdad\", \"verdad\", \"verdad\", \"versi\\u00f3n\", \"versi\\u00f3n\", \"viene\", \"viene\", \"viene\", \"viene\", \"vino\", \"vino\", \"volver\\u00eda\", \"voy\", \"voy\", \"xbox\", \"xbox\"]}, \"R\": 30, \"lambda.step\": 0.01, \"plot.opts\": {\"xlab\": \"PC1\", \"ylab\": \"PC2\"}, \"topic.order\": [6, 1, 2, 3, 4, 5]};\n",
       "\n",
       "function LDAvis_load_lib(url, callback){\n",
       "  var s = document.createElement('script');\n",
       "  s.src = url;\n",
       "  s.async = true;\n",
       "  s.onreadystatechange = s.onload = callback;\n",
       "  s.onerror = function(){console.warn(\"failed to load library \" + url);};\n",
       "  document.getElementsByTagName(\"head\")[0].appendChild(s);\n",
       "}\n",
       "\n",
       "if(typeof(LDAvis) !== \"undefined\"){\n",
       "   // already loaded: just create the visualization\n",
       "   !function(LDAvis){\n",
       "       new LDAvis(\"#\" + \"ldavis_el1306426431373944961632323724\", ldavis_el1306426431373944961632323724_data);\n",
       "   }(LDAvis);\n",
       "}else if(typeof define === \"function\" && define.amd){\n",
       "   // require.js is available: use it to load d3/LDAvis\n",
       "   require.config({paths: {d3: \"https://d3js.org/d3.v5\"}});\n",
       "   require([\"d3\"], function(d3){\n",
       "      window.d3 = d3;\n",
       "      LDAvis_load_lib(\"https://cdn.jsdelivr.net/gh/bmabey/pyLDAvis@3.3.1/pyLDAvis/js/ldavis.v3.0.0.js\", function(){\n",
       "        new LDAvis(\"#\" + \"ldavis_el1306426431373944961632323724\", ldavis_el1306426431373944961632323724_data);\n",
       "      });\n",
       "    });\n",
       "}else{\n",
       "    // require.js not available: dynamically load d3 & LDAvis\n",
       "    LDAvis_load_lib(\"https://d3js.org/d3.v5.js\", function(){\n",
       "         LDAvis_load_lib(\"https://cdn.jsdelivr.net/gh/bmabey/pyLDAvis@3.3.1/pyLDAvis/js/ldavis.v3.0.0.js\", function(){\n",
       "                 new LDAvis(\"#\" + \"ldavis_el1306426431373944961632323724\", ldavis_el1306426431373944961632323724_data);\n",
       "            })\n",
       "         });\n",
       "}\n",
       "</script>"
      ],
      "text/plain": [
       "<IPython.core.display.HTML object>"
      ]
     },
     "execution_count": 9,
     "metadata": {},
     "output_type": "execute_result"
    }
   ],
   "source": [
    "# Resultados\n",
    "lda_display = pyLDAvis.gensim_models.prepare(model, corpus, dictionary)\n",
    "pyLDAvis.display(lda_display)"
   ]
  },
  {
   "cell_type": "markdown",
   "metadata": {},
   "source": [
    "> Nótese el cúmulo de temas en el centro, donde 3 distintas agrupaciónes (1, 3, 4) se intersectan las unas con las otras."
   ]
  },
  {
   "cell_type": "code",
   "execution_count": 10,
   "metadata": {},
   "outputs": [],
   "source": [
    "def get_doc_top_n(text_processed, n):\n",
    "    d = dictionary.doc2bow(text_processed)\n",
    "    topics = dict(model.get_document_topics(d))\n",
    "    try:\n",
    "        return topics[n]\n",
    "    except:\n",
    "        return None\n",
    "    \n",
    "for t in range(0, 6):\n",
    "    top_name = f'topic_{t}'\n",
    "    data[top_name] = data['pp'].apply(lambda doc: get_doc_top_n(doc, t))"
   ]
  },
  {
   "cell_type": "code",
   "execution_count": 11,
   "metadata": {},
   "outputs": [
    {
     "name": "stdout",
     "output_type": "stream",
     "text": [
      "*********************************************************** TOPIC 0 *******************************************************\n",
      "Artículo 0\n",
      "Un buen colgante de buena calidad, y de un gran envío rápido. La única pega es que las dos cadenas se lían entre sí muchas veces, es elegante, pero siempre se están liando entre sí, por lo demás bien.\n",
      "\n",
      "Artículo 1\n",
      "compre esta pulsera por probar y ha sido toda una grata sorpresa, por un precio baratisimo tiene una mas q aceptable calidad y es muy bonita, tal cual como aparece en la foto\n",
      "\n",
      "\n",
      "*********************************************************** TOPIC 1 *******************************************************\n",
      "Artículo 0\n",
      "Es un juegazo que merece muchísimo la pena tener, con varios añadidos que lo hacen si cabe aún más interesante. Esta versión de switch contiene música orquestada ( la calidad se nota MUCHÍSIMO ), nuevas historias y contenido adicional que ayudan a entender ciertas partes de la historia mejor, la posibilidad de acelerar el combate ( este añadido es el mejor, desde el minuto 1 activado y hace los combates super dinámicos y rápidos ), el modo 2D tanto en la historia principal como en un contenido a\n",
      "\n",
      "Artículo 1\n",
      "buscaba dos anillos que fuesen a juego y extensibles, para poder llevarlos mi mujer y yo, y me decidí por estos. Llegan super bien presentados en una cajita etc, como presentacion fantásticos. Los anillos son bonitos, no muy grandes, y por la parte de abajo tienen un \"corte\" y por eso se pueden ajustar a dedos más grandes, nosotros por ejemplo, lo llevamos en el dedo pulgar. Le pongo solo 3 estrellas, porque en menos de 1 semana el anillo de mi mujer ha perdido una piedra, una lástima, porque to\n",
      "\n",
      "\n",
      "*********************************************************** TOPIC 2 *******************************************************\n",
      "Artículo 0\n",
      "Es una pena, tenia muchas esperanzas en este juego y se ha convertido en una gran decepción. Los puntos fuertes: La jugabilidad es fantástica, tal como se vió en Red Dead Redemption o Max Payne 3, así como su sistema de coberturas. El sistema de 3 personajes, con opción de cambio rápido, muy logrado. Los gráficos y su rendimiento, sorprende gratamente. Alta calidad y muy pocas bajadas de frames. Ahora viene lo malo, lo decepcionante: Historia pésima, absurda y a un nivel narrativo muy por debajo\n",
      "\n",
      "Artículo 1\n",
      "En las imágenes de la ficha del producto aparece bien claro la imagen de la contraportada en perfecto castellano, a mi me llegó la carátula en completo italiano. El juego en sí está en castellano, tanto voces como subtítulos, aunque creo que el actor de voz español del protagonista no es el mismo que en la entrega anterior (Deus Ex: Human Revolution); si es el mismo, no se parece casi nada...\n",
      "\n",
      "\n",
      "*********************************************************** TOPIC 3 *******************************************************\n",
      "Artículo 0\n",
      "LLevo mucho tiempo comprando en Amazón y nunca me había pasado una cosa así. Como a otros usuarios, después de esperar meses hasta el 23 de octubre, nos dicen que se va a retrasar el envío hasta fecha indefinida. Por fin ayer nos lo cobran y nos dicen que llega hoy día 3. ¡Oh sorpresa! hoy dice en el pedido que el envío se vuelve a retrasar, que llega entre el 3 y 6, pero sin asegurar nada. ¡Ya está bien!\n",
      "\n",
      "Artículo 1\n",
      "Se esperaba hoy y no ha llegado. Ahora puede que no llegue hasta el miércoles. Era para un regalo. Me han dejado echa polvo. No es la primera vez que pasa. Y ver por el seguimiento que tarda 12 horas para ir de Coslada a Getafe. Y luego 24 horas después sale de Getafe. Cuando era el día en que tenía que llegar. ¿ Cuánto tardará en hacer los 300 km hasta su destino? Igual el miércoles es pronto con esa media. Muy decepcionada.\n",
      "\n",
      "\n",
      "*********************************************************** TOPIC 4 *******************************************************\n",
      "Artículo 0\n",
      "La funda es tal cual la foto, cabe perfectamente la switch con los joycon acoplados, el doc, el soporte para los joycon, el cargador y el cable HDMI. Los huecos sujetan bien cada parte, probé a voltear varias veces la funda y todo se mantuvo en su sitio bien fijado así que me da seguridad por si tengo que transportar mi switch a otro lugar se que estará bien en esa funda, de momento me sirve para guardarla cuando no la uso. Lo único que es muy grande ya que cabe todo, para que te puedas hacer un\n",
      "\n",
      "Artículo 1\n",
      "El aparato funciona perfectamente. Es decir, detecta el mando a la primera y se conecta fácilmente. El problema es de software. El enlace que viene el el blister en forma de código QR ya no tiene el software de Microsoft para los drivers del dispositivo, con lo cual tienes que hacer búsquedas alternativas hasta dar con el driver adecuado. No es para novatos que quieran conectar y olvidarse. Y es lamentable, puesto que quien debería tener los diversos actualizados es Microsoft, pero...\n",
      "\n",
      "\n",
      "*********************************************************** TOPIC 5 *******************************************************\n",
      "Artículo 0\n",
      "La pantalla no está mal, la autonomía es un poco justa, pero pudiéndolo enchufar mientras se usa, se solventa el problema. El procesador que lleva es un poco justo y eso hace que en ocasiones funcione un poco a trompicones, y el diseño es mejorable (cabe decir a su favor que son bastante ligeras, pero por contra a este punto favorable también se puede decir que carece de regulador de foco, las ópticas son un poco flojas en cuanto a calidad, y enseguida se empaña. Por el tema del refresco no teng\n",
      "\n",
      "Artículo 1\n",
      "Los juegos vr para ps4 me dan la impresión de que vuelvo a la ps2 por lo rudimentarios. Compré éste por las opiniones favorables. Probablemente sea el mejor en cuanto a la pobreza general de resolución, pero los desplazamientos siguen un trazado totalmente rígido e incómodo. No sé si es que es necesario usar los artilugios para VR en lugar del mando. A ver si alguien me lo aclara. Otros juegos:' Farpoint no está mal. Menos rígido que éste aunque tedioso por las constantes arañas que atacan y lle\n",
      "\n",
      "\n"
     ]
    }
   ],
   "source": [
    "# Documentos más representativos de cada tópico\n",
    "for t in range(0, 6):\n",
    "    print(f'*********************************************************** TOPIC {t} *******************************************************')\n",
    "    topic = f'topic_{t}'\n",
    "    for i, article in enumerate(data.sort_values(topic, ascending = False)['review_body'].values[:2]): #.values para una lista\n",
    "        print(f'Artículo {i}')\n",
    "        print(article[:500])\n",
    "        print()\n",
    "    print()"
   ]
  },
  {
   "cell_type": "markdown",
   "metadata": {},
   "source": [
    "###  `[3 pts]` Preguntas\n",
    "\n",
    "- ¿Qué conclusiones puede sacar de los resultados de los últimos tres talleres, usando diferentes modelos pero los mismos datos?\n",
    "\n",
    "> Una base de datos puede ser muy útil para aplicar diferentes modelos y realizar análisis desde múltiples perspectivas. Por ejemplo para el caso de los ejercicios de modelos no supervisados, le presenta al científico estructuras o patrónes que a simple vista son difíciles de detectar. Pero por otro lado, los ejercicios de clasificación, le presentan al científico que existen estructuras que él esperaría encontrar en los datos."
   ]
  }
 ],
 "metadata": {
  "kernelspec": {
   "display_name": "Python 3",
   "language": "python",
   "name": "python3"
  },
  "language_info": {
   "codemirror_mode": {
    "name": "ipython",
    "version": 3
   },
   "file_extension": ".py",
   "mimetype": "text/x-python",
   "name": "python",
   "nbconvert_exporter": "python",
   "pygments_lexer": "ipython3",
   "version": "3.8.5"
  }
 },
 "nbformat": 4,
 "nbformat_minor": 2
}
